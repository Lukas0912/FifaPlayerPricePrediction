{
 "cells": [
  {
   "cell_type": "code",
   "execution_count": 2,
   "metadata": {
    "collapsed": false,
    "pycharm": {
     "is_executing": true,
     "name": "#%%\n"
    }
   },
   "outputs": [],
   "source": [
    "import pandas as pd\n",
    "import seaborn as sb\n",
    "import matplotlib.pyplot as plt\n",
    "import numpy as np\n",
    "from sklearn.linear_model import LinearRegression\n",
    "from sklearn.model_selection import train_test_split\n",
    "from sklearn.metrics import mean_squared_error\n",
    "from sklearn.metrics import r2_score"
   ]
  },
  {
   "cell_type": "markdown",
   "metadata": {
    "collapsed": false,
    "pycharm": {
     "name": "#%% md\n"
    }
   },
   "source": [
    "### 1. Overview over dataset and selection of relevant features\n",
    "\n",
    "The dataset contains the following columns:\n",
    "\n",
    "`player_id,player_url,fifa_version,fifa_update,fifa_update_date,short_name,long_name,player_positions,overall,potential,value_eur,\n",
    "wage_eur,age,dob,height_cm,weight_kg,league_id,league_name,league_level,club_team_id,club_name,club_position,\n",
    "club_jersey_number,club_loaned_from,club_joined_date,club_contract_valid_until_year,nationality_id,nationality_name,\n",
    "nation_team_id,nation_position,nation_jersey_number,preferred_foot,weak_foot,skill_moves,international_reputation,\n",
    "work_rate,body_type,real_face,release_clause_eur,player_tags,player_traits,pace,shooting,passing,dribbling,defending,\n",
    "physic,attacking_crossing,attacking_finishing,attacking_heading_accuracy,attacking_short_passing,attacking_volleys,\n",
    "skill_dribbling,skill_curve,skill_fk_accuracy,skill_long_passing,skill_ball_control,movement_acceleration,\n",
    "movement_sprint_speed,movement_agility,movement_reactions,movement_balance,power_shot_power,power_jumping,power_stamina,\n",
    "power_strength,power_long_shots,mentality_aggression,mentality_interceptions,mentality_positioning,mentality_vision,\n",
    "mentality_penalties,mentality_composure,defending_marking_awareness,defending_standing_tackle,defending_sliding_tackle,\n",
    "goalkeeping_diving,goalkeeping_handling,goalkeeping_kicking,goalkeeping_positioning,goalkeeping_reflexes,goalkeeping_speed,\n",
    "ls,st,rs,lw,lf,cf,rf,rw,lam,cam,ram,lm,lcm,cm,rcm,rm,lwb,ldm,cdm,rdm,rwb,lb,lcb,cb,rcb,rb,gk,player_face_url`\n",
    "\n",
    "We make a fully automated data selection"
   ]
  },
  {
   "cell_type": "markdown",
   "metadata": {},
   "source": [
    "Reading of data may take some time!"
   ]
  },
  {
   "cell_type": "code",
   "execution_count": 89,
   "metadata": {
    "collapsed": false,
    "pycharm": {
     "name": "#%%\n"
    }
   },
   "outputs": [],
   "source": [
    "# read data set\n",
    "dataset = 'male_players.csv'\n",
    "dataset_df = pd.read_csv(dataset, usecols=['release_clause_eur','value_eur','player_id', 'player_url', 'fifa_version', 'fifa_update', 'fifa_update_date', 'short_name', 'long_name', 'player_positions', 'overall', 'potential'])\n",
    "# only take values that are numeric\n",
    "cleaned_df = dataset_df.select_dtypes(exclude=['object'])\n",
    "correlation_matrix = cleaned_df.corr()"
   ]
  },
  {
   "cell_type": "markdown",
   "metadata": {
    "collapsed": false,
    "pycharm": {
     "name": "#%% md\n"
    }
   },
   "source": [
    "Check Correlations"
   ]
  },
  {
   "cell_type": "code",
   "execution_count": 90,
   "metadata": {
    "collapsed": false,
    "pycharm": {
     "name": "#%%\n"
    }
   },
   "outputs": [],
   "source": [
    "def generateData(threshold):\n",
    "\n",
    "\n",
    "    # choose values that have a correlation that exceeds the threshold\n",
    "    value_eur_filtered = pd.DataFrame(correlation_matrix.value_eur[(correlation_matrix.value_eur > threshold) | (correlation_matrix.value_eur < (-1*threshold))])\n",
    "\n",
    "    if(threshold < 0.99):\n",
    "        value_eur_filtered = value_eur_filtered.drop('release_clause_eur', axis=0)\n",
    "    \n",
    "    column_names = value_eur_filtered.index.tolist()\n",
    "    relevant_attributes_df = dataset_df[column_names].dropna()\n",
    "    X_as_array = relevant_attributes_df.drop('value_eur', axis=1).values\n",
    "    y_as_array = relevant_attributes_df['value_eur'].values\n",
    "\n",
    "\n",
    "    # create heatmap\n",
    "    sb.set(style=\"white\")\n",
    "    sb.heatmap(value_eur_filtered.iloc[:, 0:1], annot=True, cmap='coolwarm',  linewidths=.5)\n",
    "\n",
    "    # plot correlation matrix\n",
    "    plt.title('Correlation Matrix')\n",
    "    plt.figure(figsize=(8, 10))\n",
    "    plt.show()\n",
    "\n",
    "    return X_as_array, y_as_array"
   ]
  },
  {
   "cell_type": "code",
   "execution_count": 91,
   "metadata": {},
   "outputs": [],
   "source": [
    "def trainModel(X_as_array, y_as_array):\n",
    "    # split in test and training data\n",
    "    X_train, X_test, y_train, y_test = train_test_split(X_as_array, y_as_array, test_size=0.2, random_state=42)\n",
    "    print(X_test.shape)\n",
    "    print(y_test.shape)\n",
    "    print(X_train.shape)\n",
    "    print(y_train.shape)\n",
    "\n",
    "    # create linear regression\n",
    "    model = LinearRegression()\n",
    "    model.fit(X_train, y_train)\n",
    "\n",
    "    # predict test data\n",
    "    y_pred = model.predict(X_test)\n",
    "\n",
    "    # evaluate model\n",
    "    mse = mean_squared_error(y_test, y_pred)\n",
    "    r2 = r2_score(y_test, y_pred)\n",
    "    return(mse, r2)"
   ]
  },
  {
   "cell_type": "code",
   "execution_count": 95,
   "metadata": {},
   "outputs": [
    {
     "data": {
      "image/png": "[encoded data removed]",
      "text/plain": [
       "<Figure size 640x480 with 2 Axes>"
      ]
     },
     "metadata": {},
     "output_type": "display_data"
    },
    {
     "data": {
      "text/plain": [
       "<Figure size 800x1000 with 0 Axes>"
      ]
     },
     "metadata": {},
     "output_type": "display_data"
    },
    {
     "name": "stdout",
     "output_type": "stream",
     "text": [
      "(1974159, 2)\n",
      "(1974159,)\n",
      "(7896634, 2)\n",
      "(7896634,)\n",
      "20931583137072.023 0.36915669410207275\n"
     ]
    }
   ],
   "source": [
    "x,y = generateData(0.2)\n",
    "lin_reg_mse, lin_reg_r2 = trainModel(x,y)\n",
    "print(lin_reg_mse, lin_reg_r2)"
   ]
  },
  {
   "cell_type": "markdown",
   "metadata": {},
   "source": [
    "# 2. Other Models\n",
    "Let's try out different evaluation algorithms to compare accuracy.\n",
    "\n",
    "Regression trees:\n"
   ]
  },
  {
   "cell_type": "code",
   "execution_count": 97,
   "metadata": {},
   "outputs": [
    {
     "name": "stdout",
     "output_type": "stream",
     "text": [
      "MSE= 7133887235.864398, NMSE= 3.152549062748693, R2= 0.9998357078782363\n"
     ]
    }
   ],
   "source": [
    "# import the regressor \n",
    "from sklearn.tree import DecisionTreeRegressor\n",
    "  \n",
    "# create a regressor object \n",
    "regressor = DecisionTreeRegressor(random_state = 0)\n",
    "\n",
    "# drop rows with missing values\n",
    "cleaned_df = cleaned_df.dropna()\n",
    "\n",
    "X_train, X_test, y_train, y_test = train_test_split(cleaned_df.drop('value_eur', axis=1), cleaned_df['value_eur'], test_size=0.2, random_state=42)\n",
    "  \n",
    "# fit the regressor with X and Y data \n",
    "regressor.fit(X_train, y_train) \n",
    "\n",
    "#test the regressor\n",
    "y_reg = regressor.predict(X_test)\n",
    "\n",
    "# evaluate model\n",
    "var_y=y_test.var()\n",
    "reg_tree_mse = mean_squared_error(y_test, y_reg)\n",
    "reg_tree_nmse=mse/var_y\n",
    "reg_tree_r2 = r2_score(y_test, y_reg)\n",
    "print(f'MSE= {reg_tree_mse}, NMSE= {reg_tree_nmse}, R2= {reg_tree_r2}')\n"
   ]
  },
  {
   "cell_type": "markdown",
   "metadata": {},
   "source": [
    "Random forest with Regression tree:"
   ]
  },
  {
   "cell_type": "code",
   "execution_count": 98,
   "metadata": {},
   "outputs": [
    {
     "name": "stderr",
     "output_type": "stream",
     "text": [
      "/Users/lukasweigmann/miniconda3/envs/FifaPlayerPricePrediction/lib/python3.10/site-packages/sklearn/ensemble/_forest.py:578: UserWarning: Some inputs do not have OOB scores. This probably means too few trees were used to compute any reliable OOB estimates.\n",
      "  warn(\n"
     ]
    },
    {
     "name": "stdout",
     "output_type": "stream",
     "text": [
      "MSE= 3408431521.025084, NMSE= 3.152549062748693, R2= 0.999921504443796\n"
     ]
    }
   ],
   "source": [
    "from sklearn.ensemble import RandomForestRegressor\n",
    "from sklearn.preprocessing import LabelEncoder\n",
    "\n",
    "label_encoder = LabelEncoder()\n",
    "x_categorical = dataset_df.select_dtypes(include=['object']).apply(label_encoder.fit_transform)\n",
    "x_numerical = dataset_df.select_dtypes(exclude=['object']).values\n",
    "x = pd.concat([pd.DataFrame(x_numerical), x_categorical], axis=1).values\n",
    "\n",
    "# Fitting Random Forest Regression to the dataset\n",
    "regressor_rf = RandomForestRegressor(n_estimators=10, random_state=0, oob_score=True)\n",
    "\n",
    "# Fit the regressor with x and y data\n",
    "regressor_rf.fit(X_train, y_train)\n",
    "\n",
    "#test the regressor\n",
    "y_reg_rf = regressor_rf.predict(X_test)\n",
    "\n",
    "# evaluate model\n",
    "var_y=y_test.var()\n",
    "ran_for_mse = mean_squared_error(y_test, y_reg_rf)\n",
    "ran_for_nmse=mse/var_y\n",
    "ran_for_r2 = r2_score(y_test, y_reg_rf)\n",
    "print(f'MSE= {ran_for_mse}, NMSE= {ran_for_nmse}, R2= {ran_for_r2}')"
   ]
  },
  {
   "cell_type": "code",
   "execution_count": 99,
   "metadata": {},
   "outputs": [],
   "source": [
    "# Function to plot performance measures\n",
    "# Params: values as list, title, categories as list\n",
    "def plotMeasures(values, title, categories):\n",
    "    values = np.array(values)\n",
    "    bar_width = 0.2\n",
    "\n",
    "    for i in range(len(categories)):\n",
    "        plt.bar(i * bar_width, values[i], width=bar_width, label=categories[i])\n",
    "\n",
    "\n",
    "    plt.xticks([])\n",
    "    plt.xlabel('Model')\n",
    "    plt.title(title)\n",
    "\n",
    "\n",
    "    plt.legend()\n",
    "    plt.show()"
   ]
  },
  {
   "cell_type": "code",
   "execution_count": 102,
   "metadata": {},
   "outputs": [
    {
     "data": {
      "image/png": "[encoded data removed]",
      "text/plain": [
       "<Figure size 640x480 with 1 Axes>"
      ]
     },
     "metadata": {},
     "output_type": "display_data"
    },
    {
     "data": {
      "image/png": "[encoded data removed]",
      "text/plain": [
       "<Figure size 640x480 with 1 Axes>"
      ]
     },
     "metadata": {},
     "output_type": "display_data"
    }
   ],
   "source": [
    "plotMeasures([reg_tree_mse, ran_for_mse], 'MSE', ['Regression Tree', 'Random Forest'])\n",
    "plotMeasures([lin_reg_r2, reg_tree_r2, ran_for_r2], 'R^2', ['Linear Regression', 'Regression Tree', 'Random Forest'])\n"
   ]
  },
  {
   "cell_type": "code",
   "execution_count": null,
   "metadata": {},
   "outputs": [],
   "source": []
  }
 ],
 "metadata": {
  "kernelspec": {
   "display_name": "Python 3",
   "language": "python",
   "name": "python3"
  },
  "language_info": {
   "codemirror_mode": {
    "name": "ipython",
    "version": 3
   },
   "file_extension": ".py",
   "mimetype": "text/x-python",
   "name": "python",
   "nbconvert_exporter": "python",
   "pygments_lexer": "ipython3",
   "version": "3.10.13"
  }
 },
 "nbformat": 4,
 "nbformat_minor": 0
}
