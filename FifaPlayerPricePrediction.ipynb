{
 "cells": [
  {
   "cell_type": "code",
   "execution_count": 2,
   "metadata": {
    "collapsed": false,
    "pycharm": {
     "is_executing": true,
     "name": "#%%\n"
    }
   },
   "outputs": [],
   "source": [
    "import pandas as pd\n",
    "import seaborn as sb\n",
    "import matplotlib.pyplot as plt\n",
    "import numpy as np\n",
    "#from sklearn.linear_model import LinearRegression\n",
    "#from sklearn.model_selection import train_test_split"
   ]
  },
  {
   "cell_type": "markdown",
   "metadata": {
    "collapsed": false,
    "pycharm": {
     "name": "#%% md\n"
    }
   },
   "source": [
    "### 1. Overview over dataset and selection of relevant features\n",
    "\n",
    "The dataset contains the following columns:\n",
    "\n",
    "`player_id,player_url,fifa_version,fifa_update,fifa_update_date,short_name,long_name,player_positions,overall,potential,value_eur,\n",
    "wage_eur,age,dob,height_cm,weight_kg,league_id,league_name,league_level,club_team_id,club_name,club_position,\n",
    "club_jersey_number,club_loaned_from,club_joined_date,club_contract_valid_until_year,nationality_id,nationality_name,\n",
    "nation_team_id,nation_position,nation_jersey_number,preferred_foot,weak_foot,skill_moves,international_reputation,\n",
    "work_rate,body_type,real_face,release_clause_eur,player_tags,player_traits,pace,shooting,passing,dribbling,defending,\n",
    "physic,attacking_crossing,attacking_finishing,attacking_heading_accuracy,attacking_short_passing,attacking_volleys,\n",
    "skill_dribbling,skill_curve,skill_fk_accuracy,skill_long_passing,skill_ball_control,movement_acceleration,\n",
    "movement_sprint_speed,movement_agility,movement_reactions,movement_balance,power_shot_power,power_jumping,power_stamina,\n",
    "power_strength,power_long_shots,mentality_aggression,mentality_interceptions,mentality_positioning,mentality_vision,\n",
    "mentality_penalties,mentality_composure,defending_marking_awareness,defending_standing_tackle,defending_sliding_tackle,\n",
    "goalkeeping_diving,goalkeeping_handling,goalkeeping_kicking,goalkeeping_positioning,goalkeeping_reflexes,goalkeeping_speed,\n",
    "ls,st,rs,lw,lf,cf,rf,rw,lam,cam,ram,lm,lcm,cm,rcm,rm,lwb,ldm,cdm,rdm,rwb,lb,lcb,cb,rcb,rb,gk,player_face_url`\n",
    "\n",
    "We first made a rough manual selection of relevant features in order to only read necessary data"
   ]
  },
  {
   "cell_type": "markdown",
   "metadata": {},
   "source": [
    "Reading of data may take some time!"
   ]
  },
  {
   "cell_type": "code",
   "execution_count": 6,
   "metadata": {
    "collapsed": false,
    "pycharm": {
     "name": "#%%\n"
    }
   },
   "outputs": [
    {
     "name": "stdout",
     "output_type": "stream",
     "text": [
      "     value_eur  wage_eur  age  nationality_id  pace  shooting  passing  \\\n",
      "0   54000000.0  195000.0   35              52  81.0      89.0     90.0   \n",
      "1   64000000.0  450000.0   34              18  80.0      88.0     83.0   \n",
      "2   84000000.0  420000.0   33              37  75.0      91.0     79.0   \n",
      "3  107500000.0  350000.0   31               7  74.0      88.0     93.0   \n",
      "4  190500000.0  230000.0   23              18  97.0      89.0     80.0   \n",
      "\n",
      "   defending  \n",
      "0       34.0  \n",
      "1       39.0  \n",
      "2       44.0  \n",
      "3       63.0  \n",
      "4       36.0  \n"
     ]
    }
   ],
   "source": [
    "dataset = 'male_players.csv'\n",
    "columns=['value_eur', 'wage_eur', 'age', 'nationality_id', 'pace', 'shooting', 'passing', 'defending']\n",
    "dataset_df = pd.read_csv(dataset, usecols=columns)\n",
    "print (dataset_df.head())"
   ]
  },
  {
   "cell_type": "markdown",
   "metadata": {
    "collapsed": false,
    "pycharm": {
     "name": "#%% md\n"
    }
   },
   "source": [
    "Check Correlations"
   ]
  },
  {
   "cell_type": "code",
   "execution_count": 36,
   "metadata": {
    "collapsed": false,
    "pycharm": {
     "name": "#%%\n"
    }
   },
   "outputs": [
    {
     "name": "stdout",
     "output_type": "stream",
     "text": [
      "           value_eur\n",
      "value_eur   1.000000\n",
      "wage_eur    0.783763\n",
      "shooting    0.310730\n",
      "passing     0.402496\n"
     ]
    },
    {
     "data": {
      "image/png": "[encoded data removed]",
      "text/plain": [
       "<Figure size 640x480 with 2 Axes>"
      ]
     },
     "metadata": {},
     "output_type": "display_data"
    },
    {
     "data": {
      "text/plain": [
       "<Figure size 800x1000 with 0 Axes>"
      ]
     },
     "metadata": {},
     "output_type": "display_data"
    }
   ],
   "source": [
    "correlation_matrix = dataset_df.corr()\n",
    "\n",
    "\n",
    "value_eur_filtered=pd.DataFrame(correlation_matrix.value_eur[(correlation_matrix.value_eur > 0.3)])\n",
    "\n",
    "print(value_eur_filtered)\n",
    "\n",
    "sb.set(style=\"white\")\n",
    "#mask = np.triu(np.ones_like(correlation_matrix, dtype=bool))\n",
    "\n",
    "sb.heatmap(value_eur_filtered.iloc[:, 0:1], annot=True, cmap='coolwarm',  linewidths=.5)#mask=mask)\n",
    "\n",
    "plt.title('Correlation Matrix')\n",
    "plt.figure(figsize=(8, 10))\n",
    "plt.show()"
   ]
  },
  {
   "cell_type": "code",
   "execution_count": null,
   "metadata": {},
   "outputs": [],
   "source": [
    "# split into training and testing data\n",
    "X_train, X_test, y_train, y_test = train_test_split(X, y, test_size=0.2, random_state=42)\n",
    "\n",
    "#train linear"
   ]
  }
 ],
 "metadata": {
  "kernelspec": {
   "display_name": "Python 3",
   "language": "python",
   "name": "python3"
  },
  "language_info": {
   "codemirror_mode": {
    "name": "ipython",
    "version": 3
   },
   "file_extension": ".py",
   "mimetype": "text/x-python",
   "name": "python",
   "nbconvert_exporter": "python",
   "pygments_lexer": "ipython3",
   "version": "3.10.13"
  }
 },
 "nbformat": 4,
 "nbformat_minor": 0
}
