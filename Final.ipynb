{
 "cells": [
  {
   "cell_type": "markdown",
   "metadata": {},
   "source": [
    "# FIFA PLAYER PRICE PREDICTION"
   ]
  },
  {
   "cell_type": "markdown",
   "metadata": {},
   "source": [
    "Authors :\n",
    "\n",
    "- Daniel FU : fu.2121690@studenti.uniroma1.it / Matricola : 2121690\n",
    "- Marvin BERGER : berger.2117502@studenti.uniroma1.it / Matricola : 2117502\n",
    "- Lukas WEIGMANN : weigmann.2117702@studenti.uniroma1.it / Matricola : 2117702\n",
    "- Srinjan GHOSH : ghosh.2053796@studenti.uniroma1.it / Matricola : 2053796\n",
    "- Agnese LORELLI : lorelli.1966415@studenti.uniroma1.it / Matricola : 1966415"
   ]
  },
  {
   "cell_type": "markdown",
   "metadata": {},
   "source": [
    "## Abstract"
   ]
  },
  {
   "cell_type": "markdown",
   "metadata": {},
   "source": []
  },
  {
   "cell_type": "markdown",
   "metadata": {},
   "source": [
    "## Introduction"
   ]
  },
  {
   "cell_type": "markdown",
   "metadata": {},
   "source": [
    "This is the final project of the course **\"Foundations of Data Science\"**. Our goal is to predict the market value of a player in the game FIFA. We chose this topic because of our interest in soccer and the fact that the data for the FIFA games is very closely related to market data from reality. This way we can develop an approach for predicting players' market values while still having a lot of other data on top for experimenting. We found a Dataset on **Kaggle** : ​​​[FIFA](https://www.kaggle.com/datasets/stefanoleone992/fifa-23-complete-player-dataset?select=male_players.csv). This dataset contains players' characteristics from FIFA 15 to FIFA 23, it has 110 features and over 1 million instances.\n",
    "We want to optimize several models on the prediction of the player price, compare the models considering the resulting Root Mean Squared Error and R^2 values and be able to make conclusion about the importance of the features for such a prediction."
   ]
  },
  {
   "cell_type": "markdown",
   "metadata": {},
   "source": [
    "## Team assignments\n",
    "\n",
    "We decided to split the workload :\n",
    "\n",
    "- Daniel FU : XGBoost + Feature Importance\n",
    "- Marvin BERGER : Feature Engineering + Linear Regression\n",
    "- Lukas WEIGMANN : Feature Engineering + Linear Regression + Plot\n",
    "- Srinjan GHOSH : Feature Engineering + Linear and Polynomial Regression\n",
    "- Agnese LORELLI : Decision Tree + Random Forest"
   ]
  },
  {
   "cell_type": "markdown",
   "metadata": {},
   "source": [
    "### Import Packages"
   ]
  },
  {
   "cell_type": "code",
   "execution_count": 1,
   "metadata": {},
   "outputs": [],
   "source": [
    "import numpy as np\n",
    "import pandas as pd\n",
    "import matplotlib.pyplot as plt\n",
    "import seaborn as sns\n",
    "\n",
    "from sklearn.preprocessing import LabelEncoder\n",
    "from sklearn.preprocessing import PolynomialFeatures\n",
    "\n",
    "from sklearn.model_selection import train_test_split\n",
    "\n",
    "from sklearn.linear_model import LinearRegression\n",
    "from sklearn.linear_model import SGDRegressor\n",
    "from sklearn.tree import DecisionTreeRegressor\n",
    "from sklearn.ensemble import RandomForestRegressor\n",
    "\n",
    "from sklearn.metrics import mean_squared_error\n",
    "from sklearn.metrics import r2_score"
   ]
  },
  {
   "cell_type": "markdown",
   "metadata": {},
   "source": [
    "## 1. Dataset Loading and Pre-processing"
   ]
  },
  {
   "cell_type": "code",
   "execution_count": 3,
   "metadata": {},
   "outputs": [
    {
     "name": "stderr",
     "output_type": "stream",
     "text": [
      "/var/folders/nh/3_7mpjj50cj494n6nfn7c77h0000gn/T/ipykernel_35718/3223005786.py:2: DtypeWarning: Columns (108) have mixed types. Specify dtype option on import or set low_memory=False.\n",
      "  dataset_df = pd.read_csv(DATASET_PATH)\n"
     ]
    },
    {
     "data": {
      "text/html": [
       "<div>\n",
       "<style scoped>\n",
       "    .dataframe tbody tr th:only-of-type {\n",
       "        vertical-align: middle;\n",
       "    }\n",
       "\n",
       "    .dataframe tbody tr th {\n",
       "        vertical-align: top;\n",
       "    }\n",
       "\n",
       "    .dataframe thead th {\n",
       "        text-align: right;\n",
       "    }\n",
       "</style>\n",
       "<table border=\"1\" class=\"dataframe\">\n",
       "  <thead>\n",
       "    <tr style=\"text-align: right;\">\n",
       "      <th></th>\n",
       "      <th>player_id</th>\n",
       "      <th>player_url</th>\n",
       "      <th>fifa_version</th>\n",
       "      <th>fifa_update</th>\n",
       "      <th>fifa_update_date</th>\n",
       "      <th>short_name</th>\n",
       "      <th>long_name</th>\n",
       "      <th>player_positions</th>\n",
       "      <th>overall</th>\n",
       "      <th>potential</th>\n",
       "      <th>...</th>\n",
       "      <th>cdm</th>\n",
       "      <th>rdm</th>\n",
       "      <th>rwb</th>\n",
       "      <th>lb</th>\n",
       "      <th>lcb</th>\n",
       "      <th>cb</th>\n",
       "      <th>rcb</th>\n",
       "      <th>rb</th>\n",
       "      <th>gk</th>\n",
       "      <th>player_face_url</th>\n",
       "    </tr>\n",
       "  </thead>\n",
       "  <tbody>\n",
       "    <tr>\n",
       "      <th>0</th>\n",
       "      <td>158023</td>\n",
       "      <td>/player/158023/lionel-messi/230009</td>\n",
       "      <td>23</td>\n",
       "      <td>9</td>\n",
       "      <td>2023-01-13</td>\n",
       "      <td>L. Messi</td>\n",
       "      <td>Lionel Andrés Messi Cuccittini</td>\n",
       "      <td>RW</td>\n",
       "      <td>91</td>\n",
       "      <td>91</td>\n",
       "      <td>...</td>\n",
       "      <td>63+3</td>\n",
       "      <td>63+3</td>\n",
       "      <td>64+3</td>\n",
       "      <td>59+3</td>\n",
       "      <td>50+3</td>\n",
       "      <td>50+3</td>\n",
       "      <td>50+3</td>\n",
       "      <td>59+3</td>\n",
       "      <td>19+3</td>\n",
       "      <td>https://cdn.sofifa.net/players/158/023/23_120.png</td>\n",
       "    </tr>\n",
       "    <tr>\n",
       "      <th>1</th>\n",
       "      <td>165153</td>\n",
       "      <td>/player/165153/karim-benzema/230009</td>\n",
       "      <td>23</td>\n",
       "      <td>9</td>\n",
       "      <td>2023-01-13</td>\n",
       "      <td>K. Benzema</td>\n",
       "      <td>Karim Benzema</td>\n",
       "      <td>CF, ST</td>\n",
       "      <td>91</td>\n",
       "      <td>91</td>\n",
       "      <td>...</td>\n",
       "      <td>64+3</td>\n",
       "      <td>64+3</td>\n",
       "      <td>64+3</td>\n",
       "      <td>60+3</td>\n",
       "      <td>55+3</td>\n",
       "      <td>55+3</td>\n",
       "      <td>55+3</td>\n",
       "      <td>60+3</td>\n",
       "      <td>18+3</td>\n",
       "      <td>https://cdn.sofifa.net/players/165/153/23_120.png</td>\n",
       "    </tr>\n",
       "    <tr>\n",
       "      <th>2</th>\n",
       "      <td>188545</td>\n",
       "      <td>/player/188545/robert-lewandowski/230009</td>\n",
       "      <td>23</td>\n",
       "      <td>9</td>\n",
       "      <td>2023-01-13</td>\n",
       "      <td>R. Lewandowski</td>\n",
       "      <td>Robert Lewandowski</td>\n",
       "      <td>ST</td>\n",
       "      <td>91</td>\n",
       "      <td>91</td>\n",
       "      <td>...</td>\n",
       "      <td>66+3</td>\n",
       "      <td>66+3</td>\n",
       "      <td>64+3</td>\n",
       "      <td>61+3</td>\n",
       "      <td>60+3</td>\n",
       "      <td>60+3</td>\n",
       "      <td>60+3</td>\n",
       "      <td>61+3</td>\n",
       "      <td>19+3</td>\n",
       "      <td>https://cdn.sofifa.net/players/188/545/23_120.png</td>\n",
       "    </tr>\n",
       "    <tr>\n",
       "      <th>3</th>\n",
       "      <td>192985</td>\n",
       "      <td>/player/192985/kevin-de-bruyne/230009</td>\n",
       "      <td>23</td>\n",
       "      <td>9</td>\n",
       "      <td>2023-01-13</td>\n",
       "      <td>K. De Bruyne</td>\n",
       "      <td>Kevin De Bruyne</td>\n",
       "      <td>CM, CAM</td>\n",
       "      <td>91</td>\n",
       "      <td>91</td>\n",
       "      <td>...</td>\n",
       "      <td>79+3</td>\n",
       "      <td>79+3</td>\n",
       "      <td>78+3</td>\n",
       "      <td>74+3</td>\n",
       "      <td>68+3</td>\n",
       "      <td>68+3</td>\n",
       "      <td>68+3</td>\n",
       "      <td>74+3</td>\n",
       "      <td>21+3</td>\n",
       "      <td>https://cdn.sofifa.net/players/192/985/23_120.png</td>\n",
       "    </tr>\n",
       "    <tr>\n",
       "      <th>4</th>\n",
       "      <td>231747</td>\n",
       "      <td>/player/231747/kylian-mbappe/230009</td>\n",
       "      <td>23</td>\n",
       "      <td>9</td>\n",
       "      <td>2023-01-13</td>\n",
       "      <td>K. Mbappé</td>\n",
       "      <td>Kylian Mbappé Lottin</td>\n",
       "      <td>ST, LW</td>\n",
       "      <td>91</td>\n",
       "      <td>95</td>\n",
       "      <td>...</td>\n",
       "      <td>63+3</td>\n",
       "      <td>63+3</td>\n",
       "      <td>67+3</td>\n",
       "      <td>63+3</td>\n",
       "      <td>54+3</td>\n",
       "      <td>54+3</td>\n",
       "      <td>54+3</td>\n",
       "      <td>63+3</td>\n",
       "      <td>18+3</td>\n",
       "      <td>https://cdn.sofifa.net/players/231/747/23_120.png</td>\n",
       "    </tr>\n",
       "  </tbody>\n",
       "</table>\n",
       "<p>5 rows × 110 columns</p>\n",
       "</div>"
      ],
      "text/plain": [
       "   player_id                                player_url  fifa_version  \\\n",
       "0     158023        /player/158023/lionel-messi/230009            23   \n",
       "1     165153       /player/165153/karim-benzema/230009            23   \n",
       "2     188545  /player/188545/robert-lewandowski/230009            23   \n",
       "3     192985     /player/192985/kevin-de-bruyne/230009            23   \n",
       "4     231747       /player/231747/kylian-mbappe/230009            23   \n",
       "\n",
       "   fifa_update fifa_update_date      short_name  \\\n",
       "0            9       2023-01-13        L. Messi   \n",
       "1            9       2023-01-13      K. Benzema   \n",
       "2            9       2023-01-13  R. Lewandowski   \n",
       "3            9       2023-01-13    K. De Bruyne   \n",
       "4            9       2023-01-13       K. Mbappé   \n",
       "\n",
       "                        long_name player_positions  overall  potential  ...  \\\n",
       "0  Lionel Andrés Messi Cuccittini               RW       91         91  ...   \n",
       "1                   Karim Benzema           CF, ST       91         91  ...   \n",
       "2              Robert Lewandowski               ST       91         91  ...   \n",
       "3                 Kevin De Bruyne          CM, CAM       91         91  ...   \n",
       "4            Kylian Mbappé Lottin           ST, LW       91         95  ...   \n",
       "\n",
       "    cdm   rdm   rwb    lb   lcb    cb   rcb    rb    gk  \\\n",
       "0  63+3  63+3  64+3  59+3  50+3  50+3  50+3  59+3  19+3   \n",
       "1  64+3  64+3  64+3  60+3  55+3  55+3  55+3  60+3  18+3   \n",
       "2  66+3  66+3  64+3  61+3  60+3  60+3  60+3  61+3  19+3   \n",
       "3  79+3  79+3  78+3  74+3  68+3  68+3  68+3  74+3  21+3   \n",
       "4  63+3  63+3  67+3  63+3  54+3  54+3  54+3  63+3  18+3   \n",
       "\n",
       "                                     player_face_url  \n",
       "0  https://cdn.sofifa.net/players/158/023/23_120.png  \n",
       "1  https://cdn.sofifa.net/players/165/153/23_120.png  \n",
       "2  https://cdn.sofifa.net/players/188/545/23_120.png  \n",
       "3  https://cdn.sofifa.net/players/192/985/23_120.png  \n",
       "4  https://cdn.sofifa.net/players/231/747/23_120.png  \n",
       "\n",
       "[5 rows x 110 columns]"
      ]
     },
     "execution_count": 3,
     "metadata": {},
     "output_type": "execute_result"
    }
   ],
   "source": [
    "DATASET_PATH = \"./male_players.csv\"\n",
    "dataset_df = pd.read_csv(DATASET_PATH)\n",
    "dataset_df.head()"
   ]
  },
  {
   "cell_type": "markdown",
   "metadata": {},
   "source": [
    "Lets have a look at the columns we have to work with"
   ]
  },
  {
   "cell_type": "code",
   "execution_count": 4,
   "metadata": {},
   "outputs": [
    {
     "data": {
      "text/plain": [
       "['player_id',\n",
       " 'player_url',\n",
       " 'fifa_version',\n",
       " 'fifa_update',\n",
       " 'fifa_update_date',\n",
       " 'short_name',\n",
       " 'long_name',\n",
       " 'player_positions',\n",
       " 'overall',\n",
       " 'potential',\n",
       " 'value_eur',\n",
       " 'wage_eur',\n",
       " 'age',\n",
       " 'dob',\n",
       " 'height_cm',\n",
       " 'weight_kg',\n",
       " 'league_id',\n",
       " 'league_name',\n",
       " 'league_level',\n",
       " 'club_team_id',\n",
       " 'club_name',\n",
       " 'club_position',\n",
       " 'club_jersey_number',\n",
       " 'club_loaned_from',\n",
       " 'club_joined_date',\n",
       " 'club_contract_valid_until_year',\n",
       " 'nationality_id',\n",
       " 'nationality_name',\n",
       " 'nation_team_id',\n",
       " 'nation_position',\n",
       " 'nation_jersey_number',\n",
       " 'preferred_foot',\n",
       " 'weak_foot',\n",
       " 'skill_moves',\n",
       " 'international_reputation',\n",
       " 'work_rate',\n",
       " 'body_type',\n",
       " 'real_face',\n",
       " 'release_clause_eur',\n",
       " 'player_tags',\n",
       " 'player_traits',\n",
       " 'pace',\n",
       " 'shooting',\n",
       " 'passing',\n",
       " 'dribbling',\n",
       " 'defending',\n",
       " 'physic',\n",
       " 'attacking_crossing',\n",
       " 'attacking_finishing',\n",
       " 'attacking_heading_accuracy',\n",
       " 'attacking_short_passing',\n",
       " 'attacking_volleys',\n",
       " 'skill_dribbling',\n",
       " 'skill_curve',\n",
       " 'skill_fk_accuracy',\n",
       " 'skill_long_passing',\n",
       " 'skill_ball_control',\n",
       " 'movement_acceleration',\n",
       " 'movement_sprint_speed',\n",
       " 'movement_agility',\n",
       " 'movement_reactions',\n",
       " 'movement_balance',\n",
       " 'power_shot_power',\n",
       " 'power_jumping',\n",
       " 'power_stamina',\n",
       " 'power_strength',\n",
       " 'power_long_shots',\n",
       " 'mentality_aggression',\n",
       " 'mentality_interceptions',\n",
       " 'mentality_positioning',\n",
       " 'mentality_vision',\n",
       " 'mentality_penalties',\n",
       " 'mentality_composure',\n",
       " 'defending_marking_awareness',\n",
       " 'defending_standing_tackle',\n",
       " 'defending_sliding_tackle',\n",
       " 'goalkeeping_diving',\n",
       " 'goalkeeping_handling',\n",
       " 'goalkeeping_kicking',\n",
       " 'goalkeeping_positioning',\n",
       " 'goalkeeping_reflexes',\n",
       " 'goalkeeping_speed',\n",
       " 'ls',\n",
       " 'st',\n",
       " 'rs',\n",
       " 'lw',\n",
       " 'lf',\n",
       " 'cf',\n",
       " 'rf',\n",
       " 'rw',\n",
       " 'lam',\n",
       " 'cam',\n",
       " 'ram',\n",
       " 'lm',\n",
       " 'lcm',\n",
       " 'cm',\n",
       " 'rcm',\n",
       " 'rm',\n",
       " 'lwb',\n",
       " 'ldm',\n",
       " 'cdm',\n",
       " 'rdm',\n",
       " 'rwb',\n",
       " 'lb',\n",
       " 'lcb',\n",
       " 'cb',\n",
       " 'rcb',\n",
       " 'rb',\n",
       " 'gk',\n",
       " 'player_face_url']"
      ]
     },
     "execution_count": 4,
     "metadata": {},
     "output_type": "execute_result"
    }
   ],
   "source": [
    "dataset_df.columns.to_list()"
   ]
  },
  {
   "cell_type": "markdown",
   "metadata": {},
   "source": [
    "We have to deal with **Feature Engineering** because the dataset has too many features, we need to reduce it:\n",
    "Taking the mean of the related attributes in order to form a summary of each attribute."
   ]
  },
  {
   "cell_type": "code",
   "execution_count": 5,
   "metadata": {},
   "outputs": [
    {
     "data": {
      "text/html": [
       "<div>\n",
       "<style scoped>\n",
       "    .dataframe tbody tr th:only-of-type {\n",
       "        vertical-align: middle;\n",
       "    }\n",
       "\n",
       "    .dataframe tbody tr th {\n",
       "        vertical-align: top;\n",
       "    }\n",
       "\n",
       "    .dataframe thead th {\n",
       "        text-align: right;\n",
       "    }\n",
       "</style>\n",
       "<table border=\"1\" class=\"dataframe\">\n",
       "  <thead>\n",
       "    <tr style=\"text-align: right;\">\n",
       "      <th></th>\n",
       "      <th>player_id</th>\n",
       "      <th>player_url</th>\n",
       "      <th>fifa_version</th>\n",
       "      <th>fifa_update</th>\n",
       "      <th>fifa_update_date</th>\n",
       "      <th>short_name</th>\n",
       "      <th>long_name</th>\n",
       "      <th>player_positions</th>\n",
       "      <th>overall</th>\n",
       "      <th>potential</th>\n",
       "      <th>...</th>\n",
       "      <th>rb</th>\n",
       "      <th>gk</th>\n",
       "      <th>player_face_url</th>\n",
       "      <th>attacking_mean</th>\n",
       "      <th>skill_mean</th>\n",
       "      <th>movement_mean</th>\n",
       "      <th>power_mean</th>\n",
       "      <th>mentality_mean</th>\n",
       "      <th>defending_mean</th>\n",
       "      <th>goalkeeping_mean</th>\n",
       "    </tr>\n",
       "  </thead>\n",
       "  <tbody>\n",
       "    <tr>\n",
       "      <th>0</th>\n",
       "      <td>158023</td>\n",
       "      <td>/player/158023/lionel-messi/230009</td>\n",
       "      <td>23</td>\n",
       "      <td>9</td>\n",
       "      <td>2023-01-13</td>\n",
       "      <td>L. Messi</td>\n",
       "      <td>Lionel Andrés Messi Cuccittini</td>\n",
       "      <td>RW</td>\n",
       "      <td>91</td>\n",
       "      <td>91</td>\n",
       "      <td>...</td>\n",
       "      <td>59+3</td>\n",
       "      <td>19+3</td>\n",
       "      <td>https://cdn.sofifa.net/players/158/023/23_120.png</td>\n",
       "      <td>84.6</td>\n",
       "      <td>92.8</td>\n",
       "      <td>88.2</td>\n",
       "      <td>76.6</td>\n",
       "      <td>73.666667</td>\n",
       "      <td>26.333333</td>\n",
       "      <td>10.8</td>\n",
       "    </tr>\n",
       "    <tr>\n",
       "      <th>1</th>\n",
       "      <td>165153</td>\n",
       "      <td>/player/165153/karim-benzema/230009</td>\n",
       "      <td>23</td>\n",
       "      <td>9</td>\n",
       "      <td>2023-01-13</td>\n",
       "      <td>K. Benzema</td>\n",
       "      <td>Karim Benzema</td>\n",
       "      <td>CF, ST</td>\n",
       "      <td>91</td>\n",
       "      <td>91</td>\n",
       "      <td>...</td>\n",
       "      <td>60+3</td>\n",
       "      <td>18+3</td>\n",
       "      <td>https://cdn.sofifa.net/players/165/153/23_120.png</td>\n",
       "      <td>86.8</td>\n",
       "      <td>81.8</td>\n",
       "      <td>80.2</td>\n",
       "      <td>82.0</td>\n",
       "      <td>76.166667</td>\n",
       "      <td>28.333333</td>\n",
       "      <td>8.2</td>\n",
       "    </tr>\n",
       "    <tr>\n",
       "      <th>2</th>\n",
       "      <td>188545</td>\n",
       "      <td>/player/188545/robert-lewandowski/230009</td>\n",
       "      <td>23</td>\n",
       "      <td>9</td>\n",
       "      <td>2023-01-13</td>\n",
       "      <td>R. Lewandowski</td>\n",
       "      <td>Robert Lewandowski</td>\n",
       "      <td>ST</td>\n",
       "      <td>91</td>\n",
       "      <td>91</td>\n",
       "      <td>...</td>\n",
       "      <td>61+3</td>\n",
       "      <td>19+3</td>\n",
       "      <td>https://cdn.sofifa.net/players/188/545/23_120.png</td>\n",
       "      <td>85.8</td>\n",
       "      <td>81.6</td>\n",
       "      <td>80.6</td>\n",
       "      <td>84.6</td>\n",
       "      <td>80.500000</td>\n",
       "      <td>32.000000</td>\n",
       "      <td>10.2</td>\n",
       "    </tr>\n",
       "    <tr>\n",
       "      <th>3</th>\n",
       "      <td>192985</td>\n",
       "      <td>/player/192985/kevin-de-bruyne/230009</td>\n",
       "      <td>23</td>\n",
       "      <td>9</td>\n",
       "      <td>2023-01-13</td>\n",
       "      <td>K. De Bruyne</td>\n",
       "      <td>Kevin De Bruyne</td>\n",
       "      <td>CM, CAM</td>\n",
       "      <td>91</td>\n",
       "      <td>91</td>\n",
       "      <td>...</td>\n",
       "      <td>74+3</td>\n",
       "      <td>21+3</td>\n",
       "      <td>https://cdn.sofifa.net/players/192/985/23_120.png</td>\n",
       "      <td>82.0</td>\n",
       "      <td>88.4</td>\n",
       "      <td>78.8</td>\n",
       "      <td>81.8</td>\n",
       "      <td>82.166667</td>\n",
       "      <td>61.000000</td>\n",
       "      <td>11.2</td>\n",
       "    </tr>\n",
       "    <tr>\n",
       "      <th>4</th>\n",
       "      <td>231747</td>\n",
       "      <td>/player/231747/kylian-mbappe/230009</td>\n",
       "      <td>23</td>\n",
       "      <td>9</td>\n",
       "      <td>2023-01-13</td>\n",
       "      <td>K. Mbappé</td>\n",
       "      <td>Kylian Mbappé Lottin</td>\n",
       "      <td>ST, LW</td>\n",
       "      <td>91</td>\n",
       "      <td>95</td>\n",
       "      <td>...</td>\n",
       "      <td>63+3</td>\n",
       "      <td>18+3</td>\n",
       "      <td>https://cdn.sofifa.net/players/231/747/23_120.png</td>\n",
       "      <td>82.2</td>\n",
       "      <td>80.8</td>\n",
       "      <td>92.2</td>\n",
       "      <td>82.0</td>\n",
       "      <td>74.166667</td>\n",
       "      <td>30.666667</td>\n",
       "      <td>8.4</td>\n",
       "    </tr>\n",
       "  </tbody>\n",
       "</table>\n",
       "<p>5 rows × 82 columns</p>\n",
       "</div>"
      ],
      "text/plain": [
       "   player_id                                player_url  fifa_version  \\\n",
       "0     158023        /player/158023/lionel-messi/230009            23   \n",
       "1     165153       /player/165153/karim-benzema/230009            23   \n",
       "2     188545  /player/188545/robert-lewandowski/230009            23   \n",
       "3     192985     /player/192985/kevin-de-bruyne/230009            23   \n",
       "4     231747       /player/231747/kylian-mbappe/230009            23   \n",
       "\n",
       "   fifa_update fifa_update_date      short_name  \\\n",
       "0            9       2023-01-13        L. Messi   \n",
       "1            9       2023-01-13      K. Benzema   \n",
       "2            9       2023-01-13  R. Lewandowski   \n",
       "3            9       2023-01-13    K. De Bruyne   \n",
       "4            9       2023-01-13       K. Mbappé   \n",
       "\n",
       "                        long_name player_positions  overall  potential  ...  \\\n",
       "0  Lionel Andrés Messi Cuccittini               RW       91         91  ...   \n",
       "1                   Karim Benzema           CF, ST       91         91  ...   \n",
       "2              Robert Lewandowski               ST       91         91  ...   \n",
       "3                 Kevin De Bruyne          CM, CAM       91         91  ...   \n",
       "4            Kylian Mbappé Lottin           ST, LW       91         95  ...   \n",
       "\n",
       "     rb    gk                                    player_face_url  \\\n",
       "0  59+3  19+3  https://cdn.sofifa.net/players/158/023/23_120.png   \n",
       "1  60+3  18+3  https://cdn.sofifa.net/players/165/153/23_120.png   \n",
       "2  61+3  19+3  https://cdn.sofifa.net/players/188/545/23_120.png   \n",
       "3  74+3  21+3  https://cdn.sofifa.net/players/192/985/23_120.png   \n",
       "4  63+3  18+3  https://cdn.sofifa.net/players/231/747/23_120.png   \n",
       "\n",
       "  attacking_mean  skill_mean  movement_mean  power_mean mentality_mean  \\\n",
       "0           84.6        92.8           88.2        76.6      73.666667   \n",
       "1           86.8        81.8           80.2        82.0      76.166667   \n",
       "2           85.8        81.6           80.6        84.6      80.500000   \n",
       "3           82.0        88.4           78.8        81.8      82.166667   \n",
       "4           82.2        80.8           92.2        82.0      74.166667   \n",
       "\n",
       "   defending_mean  goalkeeping_mean  \n",
       "0       26.333333              10.8  \n",
       "1       28.333333               8.2  \n",
       "2       32.000000              10.2  \n",
       "3       61.000000              11.2  \n",
       "4       30.666667               8.4  \n",
       "\n",
       "[5 rows x 82 columns]"
      ]
     },
     "execution_count": 5,
     "metadata": {},
     "output_type": "execute_result"
    }
   ],
   "source": [
    "dataset_df['attacking_mean'] = np.mean(dataset_df[['attacking_crossing',\n",
    "                                       'attacking_finishing',\n",
    "                                       'attacking_heading_accuracy',\n",
    "                                       'attacking_short_passing',\n",
    "                                       'attacking_volleys']], axis=1)\n",
    "\n",
    "dataset_df['skill_mean'] = np.mean(dataset_df[['skill_dribbling',\n",
    "                                   'skill_curve',\n",
    "                                   'skill_fk_accuracy',\n",
    "                                   'skill_long_passing',\n",
    "                                   'skill_ball_control']], axis=1)\n",
    "\n",
    "dataset_df['movement_mean'] = np.mean(dataset_df[['movement_acceleration',\n",
    "                                      'movement_sprint_speed',\n",
    "                                      'movement_agility',\n",
    "                                      'movement_reactions',\n",
    "                                      'movement_balance']], axis=1)\n",
    "\n",
    "dataset_df['power_mean'] = np.mean(dataset_df[['power_shot_power',\n",
    "                                   'power_jumping',\n",
    "                                   'power_stamina',\n",
    "                                   'power_strength',\n",
    "                                   'power_long_shots']], axis=1)\n",
    "\n",
    "dataset_df['mentality_mean'] = np.mean(dataset_df[['mentality_aggression',\n",
    "                                       'mentality_interceptions',\n",
    "                                       'mentality_positioning',\n",
    "                                       'mentality_vision',\n",
    "                                       'mentality_penalties',\n",
    "                                       'mentality_composure']], axis=1)\n",
    "\n",
    "dataset_df['defending_mean'] = np.mean(dataset_df[['defending_marking_awareness',\n",
    "                                       'defending_standing_tackle',\n",
    "                                       'defending_sliding_tackle']], axis=1)\n",
    "\n",
    "dataset_df['goalkeeping_mean'] = np.mean(dataset_df[['goalkeeping_diving',\n",
    "                                         'goalkeeping_handling',\n",
    "                                         'goalkeeping_kicking',\n",
    "                                         'goalkeeping_positioning',\n",
    "                                         'goalkeeping_reflexes',\n",
    "                                         'goalkeeping_speed']], axis=1)\n",
    "\n",
    "columns_to_remove = ['attacking_crossing', 'attacking_finishing', 'attacking_heading_accuracy',\n",
    "                      'attacking_short_passing', 'attacking_volleys', 'skill_dribbling', 'skill_curve',\n",
    "                      'skill_fk_accuracy', 'skill_long_passing', 'skill_ball_control',\n",
    "                      'movement_acceleration', 'movement_sprint_speed', 'movement_agility',\n",
    "                      'movement_reactions', 'movement_balance', 'power_shot_power', 'power_jumping',\n",
    "                      'power_stamina', 'power_strength', 'power_long_shots', 'mentality_aggression',\n",
    "                      'mentality_interceptions', 'mentality_positioning', 'mentality_vision',\n",
    "                      'mentality_penalties', 'mentality_composure', 'defending_marking_awareness',\n",
    "                      'defending_standing_tackle', 'defending_sliding_tackle', 'goalkeeping_diving',\n",
    "                      'goalkeeping_handling', 'goalkeeping_kicking', 'goalkeeping_positioning',\n",
    "                      'goalkeeping_reflexes', 'goalkeeping_speed']\n",
    "\n",
    "# Remove the original columns\n",
    "dataset_df.drop(columns=columns_to_remove, inplace=True)\n",
    "\n",
    "# Display the modified DataFrame\n",
    "dataset_df.head()\n"
   ]
  },
  {
   "cell_type": "markdown",
   "metadata": {},
   "source": [
    "We use label encoding to encode categorical variables which might decide the market value of a player"
   ]
  },
  {
   "cell_type": "code",
   "execution_count": 6,
   "metadata": {},
   "outputs": [],
   "source": [
    "dataset_df['preferred_foot'] = LabelEncoder().fit_transform(dataset_df['preferred_foot'])\n",
    "dataset_df['work_rate'] = LabelEncoder().fit_transform(dataset_df['work_rate'])\n",
    "dataset_df['body_type'] = LabelEncoder().fit_transform(dataset_df['body_type'])"
   ]
  },
  {
   "cell_type": "markdown",
   "metadata": {},
   "source": [
    "Let's have a look at the values of the changed attrbiutes"
   ]
  },
  {
   "cell_type": "code",
   "execution_count": null,
   "metadata": {},
   "outputs": [],
   "source": [
    "dataset_df[['preferred_foot', 'work_rate', 'body_type']]"
   ]
  },
  {
   "cell_type": "markdown",
   "metadata": {},
   "source": [
    "Let's now visualize how the attributes might be correlated with our dependent variable **value_eur**."
   ]
  },
  {
   "cell_type": "code",
   "execution_count": 8,
   "metadata": {},
   "outputs": [
    {
     "name": "stderr",
     "output_type": "stream",
     "text": [
      "/Users/srinjanghosh/miniconda3/envs/fds/lib/python3.9/site-packages/seaborn/_oldcore.py:1498: FutureWarning: is_categorical_dtype is deprecated and will be removed in a future version. Use isinstance(dtype, CategoricalDtype) instead\n",
      "  if pd.api.types.is_categorical_dtype(vector):\n",
      "/Users/srinjanghosh/miniconda3/envs/fds/lib/python3.9/site-packages/seaborn/_oldcore.py:1498: FutureWarning: is_categorical_dtype is deprecated and will be removed in a future version. Use isinstance(dtype, CategoricalDtype) instead\n",
      "  if pd.api.types.is_categorical_dtype(vector):\n",
      "/Users/srinjanghosh/miniconda3/envs/fds/lib/python3.9/site-packages/seaborn/_oldcore.py:1498: FutureWarning: is_categorical_dtype is deprecated and will be removed in a future version. Use isinstance(dtype, CategoricalDtype) instead\n",
      "  if pd.api.types.is_categorical_dtype(vector):\n"
     ]
    },
    {
     "data": {
      "text/plain": [
       "Text(0.5, 1.0, 'Correlation of Column value_eur with Other Columns')"
      ]
     },
     "execution_count": 8,
     "metadata": {},
     "output_type": "execute_result"
    },
    {
     "data": {
      "image/png": "[encoded data removed]",
      "text/plain": [
       "<Figure size 2000x1000 with 1 Axes>"
      ]
     },
     "metadata": {},
     "output_type": "display_data"
    }
   ],
   "source": [
    "selected_column = 'value_eur'\n",
    "\n",
    "correlations= dataset_df.corrwith(dataset_df[selected_column], numeric_only=True)\n",
    "\n",
    "\n",
    "plt.figure(figsize=(20, 10))\n",
    "sns.barplot(x=correlations.index, y=correlations.values, palette='viridis')\n",
    "plt.xticks(rotation=45, ha=\"right\")\n",
    "\n",
    "# Set plot labels and title\n",
    "plt.xlabel('Columns')\n",
    "plt.ylabel('Correlation Coefficient')\n",
    "plt.title(f'Correlation of Column {selected_column} with Other Columns')"
   ]
  },
  {
   "cell_type": "markdown",
   "metadata": {},
   "source": [
    "Notice that some features disappeared, it has removed features whose values are String (e.g. player_url, player_face_url ...). We have now **39 features**"
   ]
  },
  {
   "cell_type": "markdown",
   "metadata": {},
   "source": [
    "Let's remove the uncessary columns above a particular threshold"
   ]
  },
  {
   "cell_type": "code",
   "execution_count": 12,
   "metadata": {},
   "outputs": [],
   "source": [
    "def keepOnlyDataOverAThreshold(data, selected_column, threshold):\n",
    "    correlations = dataset_df.corrwith(dataset_df[selected_column], numeric_only=True)\n",
    "    columns_to_keep = correlations[correlations.abs()>threshold].index.to_list()\n",
    "    columns_to_delete = list(set(dataset_df.columns.to_list()) - set(columns_to_keep))\n",
    "    return data.drop(columns=columns_to_delete)"
   ]
  },
  {
   "cell_type": "code",
   "execution_count": 13,
   "metadata": {},
   "outputs": [
    {
     "data": {
      "text/html": [
       "<div>\n",
       "<style scoped>\n",
       "    .dataframe tbody tr th:only-of-type {\n",
       "        vertical-align: middle;\n",
       "    }\n",
       "\n",
       "    .dataframe tbody tr th {\n",
       "        vertical-align: top;\n",
       "    }\n",
       "\n",
       "    .dataframe thead th {\n",
       "        text-align: right;\n",
       "    }\n",
       "</style>\n",
       "<table border=\"1\" class=\"dataframe\">\n",
       "  <thead>\n",
       "    <tr style=\"text-align: right;\">\n",
       "      <th></th>\n",
       "      <th>overall</th>\n",
       "      <th>potential</th>\n",
       "      <th>value_eur</th>\n",
       "      <th>wage_eur</th>\n",
       "      <th>league_level</th>\n",
       "      <th>club_team_id</th>\n",
       "      <th>club_contract_valid_until_year</th>\n",
       "      <th>nation_team_id</th>\n",
       "      <th>weak_foot</th>\n",
       "      <th>skill_moves</th>\n",
       "      <th>...</th>\n",
       "      <th>passing</th>\n",
       "      <th>dribbling</th>\n",
       "      <th>defending</th>\n",
       "      <th>physic</th>\n",
       "      <th>attacking_mean</th>\n",
       "      <th>skill_mean</th>\n",
       "      <th>movement_mean</th>\n",
       "      <th>power_mean</th>\n",
       "      <th>mentality_mean</th>\n",
       "      <th>defending_mean</th>\n",
       "    </tr>\n",
       "  </thead>\n",
       "  <tbody>\n",
       "    <tr>\n",
       "      <th>0</th>\n",
       "      <td>91</td>\n",
       "      <td>91</td>\n",
       "      <td>54000000.0</td>\n",
       "      <td>195000.0</td>\n",
       "      <td>1.0</td>\n",
       "      <td>73.0</td>\n",
       "      <td>2023.0</td>\n",
       "      <td>1369.0</td>\n",
       "      <td>4</td>\n",
       "      <td>4</td>\n",
       "      <td>...</td>\n",
       "      <td>90.0</td>\n",
       "      <td>94.0</td>\n",
       "      <td>34.0</td>\n",
       "      <td>64.0</td>\n",
       "      <td>84.6</td>\n",
       "      <td>92.8</td>\n",
       "      <td>88.2</td>\n",
       "      <td>76.6</td>\n",
       "      <td>73.666667</td>\n",
       "      <td>26.333333</td>\n",
       "    </tr>\n",
       "    <tr>\n",
       "      <th>1</th>\n",
       "      <td>91</td>\n",
       "      <td>91</td>\n",
       "      <td>64000000.0</td>\n",
       "      <td>450000.0</td>\n",
       "      <td>1.0</td>\n",
       "      <td>243.0</td>\n",
       "      <td>2023.0</td>\n",
       "      <td>NaN</td>\n",
       "      <td>4</td>\n",
       "      <td>4</td>\n",
       "      <td>...</td>\n",
       "      <td>83.0</td>\n",
       "      <td>87.0</td>\n",
       "      <td>39.0</td>\n",
       "      <td>78.0</td>\n",
       "      <td>86.8</td>\n",
       "      <td>81.8</td>\n",
       "      <td>80.2</td>\n",
       "      <td>82.0</td>\n",
       "      <td>76.166667</td>\n",
       "      <td>28.333333</td>\n",
       "    </tr>\n",
       "    <tr>\n",
       "      <th>2</th>\n",
       "      <td>91</td>\n",
       "      <td>91</td>\n",
       "      <td>84000000.0</td>\n",
       "      <td>420000.0</td>\n",
       "      <td>1.0</td>\n",
       "      <td>241.0</td>\n",
       "      <td>2025.0</td>\n",
       "      <td>1353.0</td>\n",
       "      <td>4</td>\n",
       "      <td>4</td>\n",
       "      <td>...</td>\n",
       "      <td>79.0</td>\n",
       "      <td>86.0</td>\n",
       "      <td>44.0</td>\n",
       "      <td>83.0</td>\n",
       "      <td>85.8</td>\n",
       "      <td>81.6</td>\n",
       "      <td>80.6</td>\n",
       "      <td>84.6</td>\n",
       "      <td>80.500000</td>\n",
       "      <td>32.000000</td>\n",
       "    </tr>\n",
       "    <tr>\n",
       "      <th>3</th>\n",
       "      <td>91</td>\n",
       "      <td>91</td>\n",
       "      <td>107500000.0</td>\n",
       "      <td>350000.0</td>\n",
       "      <td>1.0</td>\n",
       "      <td>10.0</td>\n",
       "      <td>2025.0</td>\n",
       "      <td>1325.0</td>\n",
       "      <td>5</td>\n",
       "      <td>4</td>\n",
       "      <td>...</td>\n",
       "      <td>93.0</td>\n",
       "      <td>87.0</td>\n",
       "      <td>63.0</td>\n",
       "      <td>77.0</td>\n",
       "      <td>82.0</td>\n",
       "      <td>88.4</td>\n",
       "      <td>78.8</td>\n",
       "      <td>81.8</td>\n",
       "      <td>82.166667</td>\n",
       "      <td>61.000000</td>\n",
       "    </tr>\n",
       "    <tr>\n",
       "      <th>4</th>\n",
       "      <td>91</td>\n",
       "      <td>95</td>\n",
       "      <td>190500000.0</td>\n",
       "      <td>230000.0</td>\n",
       "      <td>1.0</td>\n",
       "      <td>73.0</td>\n",
       "      <td>2024.0</td>\n",
       "      <td>1335.0</td>\n",
       "      <td>4</td>\n",
       "      <td>5</td>\n",
       "      <td>...</td>\n",
       "      <td>80.0</td>\n",
       "      <td>92.0</td>\n",
       "      <td>36.0</td>\n",
       "      <td>76.0</td>\n",
       "      <td>82.2</td>\n",
       "      <td>80.8</td>\n",
       "      <td>92.2</td>\n",
       "      <td>82.0</td>\n",
       "      <td>74.166667</td>\n",
       "      <td>30.666667</td>\n",
       "    </tr>\n",
       "  </tbody>\n",
       "</table>\n",
       "<p>5 rows × 25 columns</p>\n",
       "</div>"
      ],
      "text/plain": [
       "   overall  potential    value_eur  wage_eur  league_level  club_team_id  \\\n",
       "0       91         91   54000000.0  195000.0           1.0          73.0   \n",
       "1       91         91   64000000.0  450000.0           1.0         243.0   \n",
       "2       91         91   84000000.0  420000.0           1.0         241.0   \n",
       "3       91         91  107500000.0  350000.0           1.0          10.0   \n",
       "4       91         95  190500000.0  230000.0           1.0          73.0   \n",
       "\n",
       "   club_contract_valid_until_year  nation_team_id  weak_foot  skill_moves  \\\n",
       "0                          2023.0          1369.0          4            4   \n",
       "1                          2023.0             NaN          4            4   \n",
       "2                          2025.0          1353.0          4            4   \n",
       "3                          2025.0          1325.0          5            4   \n",
       "4                          2024.0          1335.0          4            5   \n",
       "\n",
       "   ...  passing  dribbling  defending  physic  attacking_mean  skill_mean  \\\n",
       "0  ...     90.0       94.0       34.0    64.0            84.6        92.8   \n",
       "1  ...     83.0       87.0       39.0    78.0            86.8        81.8   \n",
       "2  ...     79.0       86.0       44.0    83.0            85.8        81.6   \n",
       "3  ...     93.0       87.0       63.0    77.0            82.0        88.4   \n",
       "4  ...     80.0       92.0       36.0    76.0            82.2        80.8   \n",
       "\n",
       "   movement_mean  power_mean  mentality_mean  defending_mean  \n",
       "0           88.2        76.6       73.666667       26.333333  \n",
       "1           80.2        82.0       76.166667       28.333333  \n",
       "2           80.6        84.6       80.500000       32.000000  \n",
       "3           78.8        81.8       82.166667       61.000000  \n",
       "4           92.2        82.0       74.166667       30.666667  \n",
       "\n",
       "[5 rows x 25 columns]"
      ]
     },
     "execution_count": 13,
     "metadata": {},
     "output_type": "execute_result"
    }
   ],
   "source": [
    "dataset_df = keepOnlyDataOverAThreshold(dataset_df, 'value_eur', 0.1)\n",
    "dataset_df.head()"
   ]
  },
  {
   "cell_type": "code",
   "execution_count": 14,
   "metadata": {},
   "outputs": [
    {
     "data": {
      "text/plain": [
       "(10003590, 25)"
      ]
     },
     "execution_count": 14,
     "metadata": {},
     "output_type": "execute_result"
    }
   ],
   "source": [
    "dataset_df.shape"
   ]
  },
  {
   "cell_type": "markdown",
   "metadata": {},
   "source": [
    "Let's remove all the rows which have N/A values --> **250k instances**"
   ]
  },
  {
   "cell_type": "code",
   "execution_count": 15,
   "metadata": {},
   "outputs": [],
   "source": [
    "dataset_df = dataset_df.dropna()"
   ]
  },
  {
   "cell_type": "code",
   "execution_count": 16,
   "metadata": {},
   "outputs": [
    {
     "data": {
      "text/plain": [
       "(242956, 25)"
      ]
     },
     "execution_count": 16,
     "metadata": {},
     "output_type": "execute_result"
    }
   ],
   "source": [
    "dataset_df.shape"
   ]
  },
  {
   "cell_type": "markdown",
   "metadata": {},
   "source": [
    "We drop this feature because it has too much correlation with the target (almost 1) and thus we want to avoid a scenario where we predict a player price basically already using the market value. It has been a debate inside the team if we should keep it or not, but thanks to our results, we know that it is better to remove it."
   ]
  },
  {
   "cell_type": "code",
   "execution_count": 17,
   "metadata": {},
   "outputs": [],
   "source": [
    "dataset_df = dataset_df.drop(columns=\"release_clause_eur\")"
   ]
  },
  {
   "cell_type": "markdown",
   "metadata": {},
   "source": [
    "Let's scale the dataset"
   ]
  },
  {
   "cell_type": "code",
   "execution_count": 18,
   "metadata": {},
   "outputs": [
    {
     "data": {
      "text/html": [
       "<div>\n",
       "<style scoped>\n",
       "    .dataframe tbody tr th:only-of-type {\n",
       "        vertical-align: middle;\n",
       "    }\n",
       "\n",
       "    .dataframe tbody tr th {\n",
       "        vertical-align: top;\n",
       "    }\n",
       "\n",
       "    .dataframe thead th {\n",
       "        text-align: right;\n",
       "    }\n",
       "</style>\n",
       "<table border=\"1\" class=\"dataframe\">\n",
       "  <thead>\n",
       "    <tr style=\"text-align: right;\">\n",
       "      <th></th>\n",
       "      <th>overall</th>\n",
       "      <th>potential</th>\n",
       "      <th>value_eur</th>\n",
       "      <th>wage_eur</th>\n",
       "      <th>league_level</th>\n",
       "      <th>club_team_id</th>\n",
       "      <th>club_contract_valid_until_year</th>\n",
       "      <th>nation_team_id</th>\n",
       "      <th>weak_foot</th>\n",
       "      <th>skill_moves</th>\n",
       "      <th>...</th>\n",
       "      <th>passing</th>\n",
       "      <th>dribbling</th>\n",
       "      <th>defending</th>\n",
       "      <th>physic</th>\n",
       "      <th>attacking_mean</th>\n",
       "      <th>skill_mean</th>\n",
       "      <th>movement_mean</th>\n",
       "      <th>power_mean</th>\n",
       "      <th>mentality_mean</th>\n",
       "      <th>defending_mean</th>\n",
       "    </tr>\n",
       "  </thead>\n",
       "  <tbody>\n",
       "    <tr>\n",
       "      <th>0</th>\n",
       "      <td>2.519552</td>\n",
       "      <td>1.996863</td>\n",
       "      <td>1.997707</td>\n",
       "      <td>2.450759</td>\n",
       "      <td>-0.306742</td>\n",
       "      <td>-0.509122</td>\n",
       "      <td>0.654471</td>\n",
       "      <td>-0.525043</td>\n",
       "      <td>1.033704</td>\n",
       "      <td>1.451021</td>\n",
       "      <td>...</td>\n",
       "      <td>2.362914</td>\n",
       "      <td>2.381919</td>\n",
       "      <td>-1.457136</td>\n",
       "      <td>-0.991061</td>\n",
       "      <td>2.326984</td>\n",
       "      <td>2.579284</td>\n",
       "      <td>1.875310</td>\n",
       "      <td>1.008086</td>\n",
       "      <td>1.174331</td>\n",
       "      <td>-1.637561</td>\n",
       "    </tr>\n",
       "    <tr>\n",
       "      <th>2</th>\n",
       "      <td>2.519552</td>\n",
       "      <td>1.996863</td>\n",
       "      <td>3.523617</td>\n",
       "      <td>6.168126</td>\n",
       "      <td>-0.306742</td>\n",
       "      <td>-0.505230</td>\n",
       "      <td>1.702788</td>\n",
       "      <td>-0.525400</td>\n",
       "      <td>1.033704</td>\n",
       "      <td>1.451021</td>\n",
       "      <td>...</td>\n",
       "      <td>1.218671</td>\n",
       "      <td>1.543173</td>\n",
       "      <td>-0.891854</td>\n",
       "      <td>1.381656</td>\n",
       "      <td>2.457943</td>\n",
       "      <td>1.519709</td>\n",
       "      <td>1.014020</td>\n",
       "      <td>2.198524</td>\n",
       "      <td>2.095098</td>\n",
       "      <td>-1.349836</td>\n",
       "    </tr>\n",
       "    <tr>\n",
       "      <th>3</th>\n",
       "      <td>2.519552</td>\n",
       "      <td>1.996863</td>\n",
       "      <td>4.718914</td>\n",
       "      <td>5.011612</td>\n",
       "      <td>-0.306742</td>\n",
       "      <td>-0.510581</td>\n",
       "      <td>1.702788</td>\n",
       "      <td>-0.526024</td>\n",
       "      <td>2.419850</td>\n",
       "      <td>1.451021</td>\n",
       "      <td>...</td>\n",
       "      <td>2.674980</td>\n",
       "      <td>1.648016</td>\n",
       "      <td>0.182182</td>\n",
       "      <td>0.632377</td>\n",
       "      <td>2.043240</td>\n",
       "      <td>2.163022</td>\n",
       "      <td>0.810031</td>\n",
       "      <td>1.781871</td>\n",
       "      <td>2.319675</td>\n",
       "      <td>0.122639</td>\n",
       "    </tr>\n",
       "    <tr>\n",
       "      <th>4</th>\n",
       "      <td>2.519552</td>\n",
       "      <td>2.640849</td>\n",
       "      <td>8.940598</td>\n",
       "      <td>3.029016</td>\n",
       "      <td>-0.306742</td>\n",
       "      <td>-0.509122</td>\n",
       "      <td>1.178630</td>\n",
       "      <td>-0.525801</td>\n",
       "      <td>1.033704</td>\n",
       "      <td>2.769523</td>\n",
       "      <td>...</td>\n",
       "      <td>1.322693</td>\n",
       "      <td>2.172232</td>\n",
       "      <td>-1.344080</td>\n",
       "      <td>0.507497</td>\n",
       "      <td>2.065066</td>\n",
       "      <td>1.444025</td>\n",
       "      <td>2.328620</td>\n",
       "      <td>1.811632</td>\n",
       "      <td>1.241704</td>\n",
       "      <td>-1.417536</td>\n",
       "    </tr>\n",
       "    <tr>\n",
       "      <th>11</th>\n",
       "      <td>2.188912</td>\n",
       "      <td>1.674870</td>\n",
       "      <td>4.617186</td>\n",
       "      <td>3.194232</td>\n",
       "      <td>-0.306742</td>\n",
       "      <td>-0.510396</td>\n",
       "      <td>1.178630</td>\n",
       "      <td>-0.526180</td>\n",
       "      <td>2.419850</td>\n",
       "      <td>0.132520</td>\n",
       "      <td>...</td>\n",
       "      <td>1.634759</td>\n",
       "      <td>1.228643</td>\n",
       "      <td>-0.722269</td>\n",
       "      <td>1.256776</td>\n",
       "      <td>2.457943</td>\n",
       "      <td>1.406183</td>\n",
       "      <td>0.266059</td>\n",
       "      <td>2.198524</td>\n",
       "      <td>2.229845</td>\n",
       "      <td>-0.875936</td>\n",
       "    </tr>\n",
       "  </tbody>\n",
       "</table>\n",
       "<p>5 rows × 24 columns</p>\n",
       "</div>"
      ],
      "text/plain": [
       "     overall  potential  value_eur  wage_eur  league_level  club_team_id  \\\n",
       "0   2.519552   1.996863   1.997707  2.450759     -0.306742     -0.509122   \n",
       "2   2.519552   1.996863   3.523617  6.168126     -0.306742     -0.505230   \n",
       "3   2.519552   1.996863   4.718914  5.011612     -0.306742     -0.510581   \n",
       "4   2.519552   2.640849   8.940598  3.029016     -0.306742     -0.509122   \n",
       "11  2.188912   1.674870   4.617186  3.194232     -0.306742     -0.510396   \n",
       "\n",
       "    club_contract_valid_until_year  nation_team_id  weak_foot  skill_moves  \\\n",
       "0                         0.654471       -0.525043   1.033704     1.451021   \n",
       "2                         1.702788       -0.525400   1.033704     1.451021   \n",
       "3                         1.702788       -0.526024   2.419850     1.451021   \n",
       "4                         1.178630       -0.525801   1.033704     2.769523   \n",
       "11                        1.178630       -0.526180   2.419850     0.132520   \n",
       "\n",
       "    ...   passing  dribbling  defending    physic  attacking_mean  skill_mean  \\\n",
       "0   ...  2.362914   2.381919  -1.457136 -0.991061        2.326984    2.579284   \n",
       "2   ...  1.218671   1.543173  -0.891854  1.381656        2.457943    1.519709   \n",
       "3   ...  2.674980   1.648016   0.182182  0.632377        2.043240    2.163022   \n",
       "4   ...  1.322693   2.172232  -1.344080  0.507497        2.065066    1.444025   \n",
       "11  ...  1.634759   1.228643  -0.722269  1.256776        2.457943    1.406183   \n",
       "\n",
       "    movement_mean  power_mean  mentality_mean  defending_mean  \n",
       "0        1.875310    1.008086        1.174331       -1.637561  \n",
       "2        1.014020    2.198524        2.095098       -1.349836  \n",
       "3        0.810031    1.781871        2.319675        0.122639  \n",
       "4        2.328620    1.811632        1.241704       -1.417536  \n",
       "11       0.266059    2.198524        2.229845       -0.875936  \n",
       "\n",
       "[5 rows x 24 columns]"
      ]
     },
     "execution_count": 18,
     "metadata": {},
     "output_type": "execute_result"
    }
   ],
   "source": [
    "from sklearn.preprocessing import StandardScaler\n",
    "\n",
    "columns = dataset_df.columns.to_list()\n",
    "\n",
    "scaler = StandardScaler()\n",
    "dataset_df[columns] = scaler.fit_transform(dataset_df[columns])\n",
    "\n",
    "dataset_df.head()"
   ]
  },
  {
   "cell_type": "markdown",
   "metadata": {},
   "source": [
    "## 2. Training Various Models\n",
    "\n",
    "We decided to use 4 approaches for our task.\n",
    "First we wanted to use regression. We expect the regression to maybe not perform that well since we have a lot of features that are not really correlated with our label. However we have a lot of features and training data.\n",
    "Furthermore we decided to use regression trees. In the first variant we only want to train one regression tree for prediction and in the second variant a Random Forest of regression trees. Especially the random forest we expect to perform well.\n",
    "Lastly we use a gradient boosting model. Again we expect it to perform very well.\n"
   ]
  },
  {
   "cell_type": "markdown",
   "metadata": {},
   "source": [
    "First let's perform the train test split"
   ]
  },
  {
   "cell_type": "code",
   "execution_count": 19,
   "metadata": {},
   "outputs": [],
   "source": [
    "y = dataset_df[\"value_eur\"]\n",
    "X = dataset_df.drop(\"value_eur\", axis=1)"
   ]
  },
  {
   "cell_type": "code",
   "execution_count": 20,
   "metadata": {},
   "outputs": [
    {
     "name": "stdout",
     "output_type": "stream",
     "text": [
      "Training data shape:           overall  potential  wage_eur  league_level  club_team_id  \\\n",
      "5410182  0.205073   0.225901  0.055122     -0.306742     -0.468933   \n",
      "3157350 -0.125567  -0.418085  0.055122     -0.306742     -0.467289   \n",
      "4906844 -0.125567   0.225901 -0.110094     -0.306742     -0.510511   \n",
      "3247683  1.362313   0.869887  1.459461     -0.306742     -0.509770   \n",
      "5894729  0.535713   0.869887  1.211636     -0.306742     -0.505230   \n",
      "...           ...        ...       ...           ...           ...   \n",
      "3397587 -0.290886  -0.740078 -0.539657      2.556185     -0.465598   \n",
      "2971185  1.196993   0.708891  0.220338     -0.306742     -0.500134   \n",
      "3716367 -0.952166  -1.062071 -0.523135      2.556185     -0.465598   \n",
      "4098663 -1.282806  -0.418085 -0.721395     -0.306742      2.063654   \n",
      "3453311 -0.125567   0.869887 -0.589222     -0.306742     -0.495224   \n",
      "\n",
      "         club_contract_valid_until_year  nation_team_id  weak_foot  \\\n",
      "5410182                       -0.393846        1.784823  -0.352442   \n",
      "3157350                        0.130313        1.927962  -0.352442   \n",
      "4906844                       -0.393846       -0.525155   1.033704   \n",
      "3247683                       -0.918005       -0.525801  -1.738587   \n",
      "5894729                       -0.393846       -0.525801  -0.352442   \n",
      "...                                 ...             ...        ...   \n",
      "3397587                       -0.918005       -0.525400  -0.352442   \n",
      "2971185                        0.130313       -0.525199  -0.352442   \n",
      "3716367                       -0.918005       -0.524018  -0.352442   \n",
      "4098663                       -0.918005       -0.524464  -1.738587   \n",
      "3453311                        0.130313        1.920163  -0.352442   \n",
      "\n",
      "         skill_moves  international_reputation  ...   passing  dribbling  \\\n",
      "5410182     0.132520                  0.441324  ...  0.594538   0.389898   \n",
      "3157350     0.132520                  0.441324  ... -0.757749  -0.239162   \n",
      "4906844    -1.185982                  0.441324  ...  0.282472  -0.553691   \n",
      "3247683    -1.185982                  1.587228  ...  0.906605   0.704427   \n",
      "5894729     0.132520                  0.441324  ...  0.802582   0.389898   \n",
      "...              ...                       ...  ...       ...        ...   \n",
      "3397587     0.132520                  0.441324  ...  0.386494   0.285054   \n",
      "2971185     1.451021                  1.587228  ...  0.906605   1.018957   \n",
      "3716367     0.132520                 -0.704580  ... -0.237638  -0.344005   \n",
      "4098663     0.132520                 -0.704580  ... -1.069815  -0.658535   \n",
      "3453311    -1.185982                 -0.704580  ... -1.381882  -1.287594   \n",
      "\n",
      "         defending    physic  attacking_mean  skill_mean  movement_mean  \\\n",
      "5410182   0.238711  0.382617        0.537210    0.800712      -0.277913   \n",
      "3157350  -1.231023  1.131896        0.253466    0.270924      -0.209917   \n",
      "4906844   0.860521  0.382617        0.297119    0.195240      -1.093872   \n",
      "3247683   1.312747  1.131896        0.886435    0.308766       0.923358   \n",
      "5894729   0.860521  0.382617        0.057027    0.346608       0.651372   \n",
      "...            ...       ...             ...         ...            ...   \n",
      "3397587  -1.231023 -1.490580        0.755476    0.762870       0.764700   \n",
      "2971185  -0.891854 -0.116902        1.715842    0.819633       1.354003   \n",
      "3716367   0.577880  1.007016        0.253466   -0.145337      -0.504568   \n",
      "4098663   0.125654  0.757257       -1.929185   -0.958939       0.492714   \n",
      "3453311   0.803993  0.507497       -1.754573   -1.526569      -0.595230   \n",
      "\n",
      "         power_mean  mentality_mean  defending_mean  \n",
      "5410182    1.275935        0.882381        0.241114  \n",
      "3157350    1.127130        0.343395       -1.468311  \n",
      "4906844    0.769999        0.904838        0.748863  \n",
      "3247683    1.275935        1.443824        1.307388  \n",
      "5894729    0.710477        0.680261        0.951963  \n",
      "...             ...             ...             ...  \n",
      "3397587   -0.539484       -0.397710       -1.552936  \n",
      "2971185    0.918803        0.680261       -0.859011  \n",
      "3716367    0.889042        0.523057        0.545763  \n",
      "4098663   -0.539484       -0.824407        0.241114  \n",
      "3453311   -1.968009       -1.408308        0.816563  \n",
      "\n",
      "[194364 rows x 23 columns]\n",
      "Test data shape:           overall  potential  wage_eur  league_level  club_team_id  \\\n",
      "4432694  2.023592   1.996863  4.185530     -0.306742     -0.505184   \n",
      "2015172 -0.125567   0.386898 -0.523135     -0.306742     -0.509237   \n",
      "3966621 -0.125567  -0.579082 -0.523135      2.556185     -0.469257   \n",
      "1585691  2.354232   2.640849  1.872501     -0.306742     -0.509122   \n",
      "2093092 -0.786846  -1.223068 -0.291832     -0.306742     -0.469211   \n",
      "...           ...        ...       ...           ...           ...   \n",
      "5732010  1.196993   0.708891  0.715987     -0.306742     -0.508612   \n",
      "2380009 -1.117486  -1.545061 -0.605743     -0.306742      2.092562   \n",
      "5570680  1.362313   0.869887  1.542069     -0.306742     -0.509122   \n",
      "5901    -1.117486   0.547894 -0.572700     -0.306742     -0.510650   \n",
      "1001940 -0.456206   0.064905 -0.192703     -0.306742     -0.503284   \n",
      "\n",
      "         club_contract_valid_until_year  nation_team_id  weak_foot  \\\n",
      "4432694                        0.130313       -0.525199  -0.352442   \n",
      "2015172                        1.178630        1.920230  -0.352442   \n",
      "3966621                       -0.393846        1.897257  -0.352442   \n",
      "1585691                        0.130313       -0.525801   1.033704   \n",
      "2093092                        0.654471       -0.525355  -1.738587   \n",
      "...                                 ...             ...        ...   \n",
      "5732010                       -0.393846       -0.525377   1.033704   \n",
      "2380009                        0.654471       -0.524464  -0.352442   \n",
      "5570680                       -1.442163       -0.525043  -1.738587   \n",
      "5901                           2.751106       -0.525266  -0.352442   \n",
      "1001940                        2.226947       -0.525333   1.033704   \n",
      "\n",
      "         skill_moves  international_reputation  ...   passing  dribbling  \\\n",
      "4432694     1.451021                  1.587228  ...  1.842803   2.277076   \n",
      "2015172    -1.185982                 -0.704580  ... -0.133616  -0.239162   \n",
      "3966621    -1.185982                 -0.704580  ...  1.114649  -0.344005   \n",
      "1585691     2.769523                  1.587228  ...  1.114649   2.067389   \n",
      "2093092    -1.185982                 -0.704580  ... -1.797970  -1.706967   \n",
      "...              ...                       ...  ...       ...        ...   \n",
      "5732010     0.132520                  1.587228  ...  1.530737   1.018957   \n",
      "2380009     0.132520                 -0.704580  ... -0.237638  -0.029475   \n",
      "5570680     2.769523                  2.733132  ...  1.426715   1.438330   \n",
      "5901       -1.185982                 -0.704580  ... -0.861771  -0.239162   \n",
      "1001940     0.132520                 -0.704580  ...  0.698560   0.180211   \n",
      "\n",
      "         defending    physic  attacking_mean  skill_mean  movement_mean  \\\n",
      "4432694   0.069126 -1.240820        1.017394    2.049496       0.900693   \n",
      "2015172   0.690936  1.506535       -0.794207   -0.485915      -0.708558   \n",
      "3966621   0.577880 -1.115940        0.493557    0.743949      -0.731224   \n",
      "1585691  -1.174495  0.507497        1.999587    1.254815       2.260623   \n",
      "2093092   0.634408  0.257737       -1.951012   -1.734699      -1.864499   \n",
      "...            ...       ...             ...         ...            ...   \n",
      "5732010   1.030106  0.007978        1.126526    1.462946      -0.277913   \n",
      "2380009  -0.043931 -0.491541       -0.073932   -0.145337      -0.663227   \n",
      "5570680  -0.778798 -0.741301        1.039220    1.330499       1.467331   \n",
      "5901      0.351767 -0.241782       -0.968819   -0.826492      -0.119255   \n",
      "1001940   0.125654  0.007978        0.035201    0.725028       0.175397   \n",
      "\n",
      "         power_mean  mentality_mean  defending_mean  \n",
      "4432694   -0.003786        1.376451       -0.012761  \n",
      "2015172    0.918803        0.388311        0.731938  \n",
      "3966621   -0.241874        0.590430        0.630388  \n",
      "1585691    1.633066        1.017127       -1.282136  \n",
      "2093092   -1.343029       -1.093900        0.647313  \n",
      "...             ...             ...             ...  \n",
      "5732010    0.621194        2.252302        0.935038  \n",
      "2380009   -0.301396       -0.846865        0.071864  \n",
      "5570680    0.472389        0.882381       -0.452811  \n",
      "5901      -0.896615       -1.273562        0.461138  \n",
      "1001940    0.918803        0.882381        0.207264  \n",
      "\n",
      "[48592 rows x 23 columns]\n"
     ]
    }
   ],
   "source": [
    "X_train, X_test, y_train, y_test = train_test_split(X, y, test_size=0.2, random_state=42)\n",
    "print(f\"Training data shape: {X_train}\")\n",
    "print(f\"Test data shape: {X_test}\")"
   ]
  },
  {
   "cell_type": "markdown",
   "metadata": {},
   "source": [
    "#### 2.1. Linear Regression"
   ]
  },
  {
   "cell_type": "code",
   "execution_count": 21,
   "metadata": {},
   "outputs": [],
   "source": [
    "def linearReg(X_train, X_test, y_train, y_test):\n",
    "  model = LinearRegression()\n",
    "  model.fit(X_train, y_train)\n",
    "  y_pred = model.predict(X_test)\n",
    "  mse = mean_squared_error(y_test, y_pred)\n",
    "  rmse = np.sqrt(mse)\n",
    "  r2 = r2_score(y_test, y_pred)\n",
    "\n",
    "  print(f'Mean Squared Error: {mse}')\n",
    "  print(f'Root Mean Squared Error: {rmse}')\n",
    "  print(f'R-squared: {r2}')\n",
    "\n",
    "  return rmse,r2"
   ]
  },
  {
   "cell_type": "code",
   "execution_count": 22,
   "metadata": {},
   "outputs": [
    {
     "name": "stdout",
     "output_type": "stream",
     "text": [
      "Mean Squared Error: 0.23386675158166678\n",
      "Root Mean Squared Error: 0.4835977166836779\n",
      "R-squared: 0.7672698481890075\n"
     ]
    }
   ],
   "source": [
    "rmse_lin,r2_lin = linearReg(X_train, X_test, y_train, y_test)"
   ]
  },
  {
   "cell_type": "markdown",
   "metadata": {},
   "source": [
    "#### 2.2. Stochastic Gradient Descent Regressor"
   ]
  },
  {
   "cell_type": "code",
   "execution_count": 23,
   "metadata": {},
   "outputs": [],
   "source": [
    "def sgdRegressor(X_train, X_test, y_train, y_test, iterations):\n",
    "  model = SGDRegressor(max_iter=iterations)\n",
    "  model.fit(X_train, y_train)\n",
    "  y_pred = model.predict(X_test)\n",
    "  mse = mean_squared_error(y_test, y_pred)\n",
    "  rmse = np.sqrt(mse)\n",
    "  r2 = r2_score(y_test, y_pred)\n",
    "\n",
    "  print(f'Mean Squared Error: {mse}')\n",
    "  print(f'Root Mean Squared Error: {rmse}')\n",
    "  print(f'R-squared: {r2}')"
   ]
  },
  {
   "cell_type": "code",
   "execution_count": 24,
   "metadata": {},
   "outputs": [
    {
     "name": "stdout",
     "output_type": "stream",
     "text": [
      "Mean Squared Error: 0.23452673559175274\n",
      "Root Mean Squared Error: 0.48427960476542137\n",
      "R-squared: 0.766613071721975\n"
     ]
    }
   ],
   "source": [
    "sgdRegressor(X_train, X_test, y_train, y_test, 10000)"
   ]
  },
  {
   "cell_type": "markdown",
   "metadata": {},
   "source": [
    "#### 2.3. Polynomial Regression"
   ]
  },
  {
   "cell_type": "code",
   "execution_count": 25,
   "metadata": {},
   "outputs": [],
   "source": [
    "small_X = X\n",
    "poly_features = PolynomialFeatures(degree=3, include_bias=False)\\\n",
    "                                            .fit_transform(small_X)\n",
    "\n",
    "X_train, X_test, y_train, y_test = train_test_split(poly_features, y, test_size=0.2, random_state=42)"
   ]
  },
  {
   "cell_type": "markdown",
   "metadata": {},
   "source": [
    "Linear Regression with polynomial features"
   ]
  },
  {
   "cell_type": "code",
   "execution_count": 26,
   "metadata": {},
   "outputs": [
    {
     "name": "stdout",
     "output_type": "stream",
     "text": [
      "Mean Squared Error: 0.029998657800751505\n",
      "Root Mean Squared Error: 0.1732012061180623\n",
      "R-squared: 0.9701471366199871\n"
     ]
    },
    {
     "data": {
      "text/plain": [
       "(0.1732012061180623, 0.9701471366199871)"
      ]
     },
     "execution_count": 26,
     "metadata": {},
     "output_type": "execute_result"
    }
   ],
   "source": [
    "linearReg(X_train, X_test, y_train, y_test)"
   ]
  },
  {
   "cell_type": "markdown",
   "metadata": {},
   "source": [
    "Stochastic Regression with polynomial features"
   ]
  },
  {
   "cell_type": "code",
   "execution_count": 28,
   "metadata": {},
   "outputs": [
    {
     "name": "stdout",
     "output_type": "stream",
     "text": [
      "Mean Squared Error: 3.083032144197967e+25\n",
      "Root Mean Squared Error: 5552505870503.846\n",
      "R-squared: -3.068048510977865e+25\n"
     ]
    }
   ],
   "source": [
    "sgdRegressor(X_train, X_test, y_train, y_test, iterations=10000)"
   ]
  },
  {
   "cell_type": "markdown",
   "metadata": {},
   "source": [
    "### 2.4. Regression Tree"
   ]
  },
  {
   "cell_type": "markdown",
   "metadata": {},
   "source": [
    "Let's first reinitialize the train and test datasets"
   ]
  },
  {
   "cell_type": "code",
   "execution_count": 29,
   "metadata": {},
   "outputs": [],
   "source": [
    "X_train, X_test, y_train, y_test = train_test_split(X, y, test_size=0.2, random_state=42)"
   ]
  },
  {
   "cell_type": "code",
   "execution_count": 30,
   "metadata": {},
   "outputs": [
    {
     "name": "stdout",
     "output_type": "stream",
     "text": [
      "RMSE= 0.017444533151279817, R2= 0.9996971672277494\n"
     ]
    }
   ],
   "source": [
    "# create a regressor object \n",
    "regressor = DecisionTreeRegressor(random_state = 0)  \n",
    "  \n",
    "# fit the regressor with X and Y data \n",
    "regressor.fit(X_train, y_train) \n",
    "\n",
    "#test the regressor\n",
    "y_reg = regressor.predict(X_test)\n",
    "\n",
    "# evaluate model\n",
    "rmse_DT = mean_squared_error(y_test, y_reg, squared=False)\n",
    "r2_DT = r2_score(y_test, y_reg)\n",
    "print(f'RMSE= {rmse_DT}, R2= {r2_DT}')"
   ]
  },
  {
   "cell_type": "code",
   "execution_count": 31,
   "metadata": {},
   "outputs": [
    {
     "name": "stdout",
     "output_type": "stream",
     "text": [
      "RMSE= 0.01588137141823719, R2= 0.9997490078290878\n"
     ]
    },
    {
     "name": "stderr",
     "output_type": "stream",
     "text": [
      "/Users/srinjanghosh/miniconda3/envs/fds/lib/python3.9/site-packages/sklearn/ensemble/_forest.py:578: UserWarning: Some inputs do not have OOB scores. This probably means too few trees were used to compute any reliable OOB estimates.\n",
      "  warn(\n"
     ]
    }
   ],
   "source": [
    "label_encoder = LabelEncoder()\n",
    "x_categorical = dataset_df.select_dtypes(include=['object']).apply(label_encoder.fit_transform)\n",
    "x_numerical = dataset_df.select_dtypes(exclude=['object']).values\n",
    "x = pd.concat([pd.DataFrame(x_numerical), x_categorical], axis=1).values\n",
    "\n",
    "# Fitting Random Forest Regression to the dataset\n",
    "regressor_rf = RandomForestRegressor(n_estimators=10, random_state=0, oob_score=True)\n",
    "\n",
    "# Fit the regressor with x and y data\n",
    "regressor_rf.fit(X_train, y_train)\n",
    "\n",
    "#test the regressor\n",
    "y_reg_rf = regressor_rf.predict(X_test)\n",
    "\n",
    "# evaluate model\n",
    "rmse_RF = mean_squared_error(y_test, y_reg_rf, squared=False)\n",
    "r2_RF = r2_score(y_test, y_reg_rf)\n",
    "print(f'RMSE= {rmse_RF}, R2= {r2_RF}')"
   ]
  },
  {
   "cell_type": "markdown",
   "metadata": {},
   "source": [
    "### 2.5. XGBoost"
   ]
  },
  {
   "cell_type": "code",
   "execution_count": 32,
   "metadata": {},
   "outputs": [],
   "source": [
    "# Split data into training and test set\n",
    "X_train, X_test, y_train, y_test = train_test_split(X, y, test_size=0.2, random_state=42)"
   ]
  },
  {
   "cell_type": "code",
   "execution_count": 34,
   "metadata": {},
   "outputs": [
    {
     "name": "stdout",
     "output_type": "stream",
     "text": [
      "Best Hyperparameters: {'learning_rate': 0.1, 'max_depth': 5, 'n_estimators': 150}\n",
      "RMSE: 0.11235471302513583\n",
      "R² Score: 0.9874377694644857\n"
     ]
    }
   ],
   "source": [
    "from sklearn.model_selection import GridSearchCV\n",
    "import xgboost as xgb\n",
    "\n",
    "# Hyperparameter grid\n",
    "param_grid = {\n",
    "    'learning_rate': [0.001, 0.01, 0.1],\n",
    "    'n_estimators': [50, 100, 150],\n",
    "    'max_depth': [3, 4, 5]\n",
    "}\n",
    "\n",
    "# Create a XGBRegressor instance\n",
    "xgb_model = xgb.XGBRegressor(objective='reg:squarederror',random_state=42)\n",
    "\n",
    "# Create GridSearchCV object\n",
    "grid_search = GridSearchCV(xgb_model, param_grid, cv=5, scoring='neg_mean_squared_error', n_jobs=-1)\n",
    "\n",
    "# Fit the grid search to the data\n",
    "grid_search.fit(X_train, y_train)\n",
    "\n",
    "# Print the best hyperparameters\n",
    "print(\"Best Hyperparameters:\", grid_search.best_params_)\n",
    "\n",
    "# Get the best model\n",
    "best_xgb_model = grid_search.best_estimator_\n",
    "\n",
    "# Make predictions on the test set using the best model\n",
    "y_pred_best = best_xgb_model.predict(X_test)\n",
    "\n",
    "# Metrics\n",
    "rmse_xgb = mean_squared_error(y_test, y_pred_best, squared=False)\n",
    "r2_xgb = r2_score(y_test, y_pred_best)\n",
    "\n",
    "print(f\"RMSE: {rmse_xgb}\")\n",
    "print(f\"R² Score: {r2_xgb}\")"
   ]
  },
  {
   "cell_type": "markdown",
   "metadata": {},
   "source": [
    "### 2.5.1 Feature Importance"
   ]
  },
  {
   "cell_type": "code",
   "execution_count": 35,
   "metadata": {},
   "outputs": [
    {
     "name": "stdout",
     "output_type": "stream",
     "text": [
      "                           Feature  Importance\n",
      "0                          overall    0.607334\n",
      "1                        potential    0.109431\n",
      "5   club_contract_valid_until_year    0.043645\n",
      "7                        weak_foot    0.027669\n",
      "12                        shooting    0.024442\n",
      "20                      power_mean    0.019368\n",
      "4                     club_team_id    0.017697\n",
      "19                   movement_mean    0.016859\n",
      "14                       dribbling    0.016113\n",
      "17                  attacking_mean    0.015707\n",
      "22                  defending_mean    0.014595\n",
      "21                  mentality_mean    0.012990\n",
      "11                            pace    0.012748\n",
      "15                       defending    0.012283\n",
      "13                         passing    0.008248\n",
      "18                      skill_mean    0.007261\n",
      "8                      skill_moves    0.007036\n",
      "9         international_reputation    0.006506\n",
      "2                         wage_eur    0.005437\n",
      "6                   nation_team_id    0.005097\n",
      "10                       work_rate    0.004960\n",
      "16                          physic    0.004575\n",
      "3                     league_level    0.000000\n"
     ]
    },
    {
     "data": {
      "image/png": "[encoded data removed]",
      "text/plain": [
       "<Figure size 800x600 with 1 Axes>"
      ]
     },
     "metadata": {},
     "output_type": "display_data"
    }
   ],
   "source": [
    "#Use Matplotlib and Importance\n",
    "\n",
    "import matplotlib.pyplot as plt\n",
    "\n",
    "# Get Importances from features\n",
    "feature_importances = best_xgb_model.feature_importances_\n",
    "\n",
    "# X axis\n",
    "feature_names = X.columns \n",
    "\n",
    "# Create a DataFrame\n",
    "feature_importance_df = pd.DataFrame({'Feature': feature_names, 'Importance': feature_importances})\n",
    "\n",
    "# Sort by value (descending)\n",
    "feature_importance_df = feature_importance_df.sort_values(by='Importance', ascending=False)\n",
    "\n",
    "print(feature_importance_df)\n",
    "\n",
    "# Plot graph\n",
    "plt.figure(figsize=(8, 6))\n",
    "plt.barh(feature_importance_df['Feature'], feature_importance_df['Importance'])\n",
    "plt.xlabel('Importance')\n",
    "plt.title('Feature Importances')\n",
    "plt.show()"
   ]
  },
  {
   "cell_type": "markdown",
   "metadata": {},
   "source": [
    "## 3. Results and Metrics\n",
    "\n",
    "### Feature importance\n",
    "We consider the feature importances of the gradient boosting model. By far the most important feature is the overall value which is a FIFA game specific value. The most important features after this one are potential, the remaining time the contract at the club is valid, the weak foot and shooting ability.\n",
    "\n",
    "### Model errors\n",
    "In the following plots we can see the Random Mean Squared Error and the R^2 values of all models compared. The linear regression performed the worst with RMSE of almost 0.5 and R^2 of around 0.8. Gradient boosting had a RMSE of around 0.1 and R^2 of almost 1. The Regression tree and Random Forest performed the best with an extremely low RMSE and R^2 even higher than the one of the Gradient Boosting model.\n"
   ]
  },
  {
   "cell_type": "code",
   "execution_count": 36,
   "metadata": {},
   "outputs": [],
   "source": [
    "# Function to plot performance measures\n",
    "# Params: values as list, title, categories as list\n",
    "def plotMeasures(values, title, categories):\n",
    "    values = np.array(values)\n",
    "    bar_width = 0.2\n",
    "\n",
    "    for i in range(len(categories)):\n",
    "        plt.bar(i * bar_width, values[i], width=bar_width, label=categories[i])\n",
    "\n",
    "\n",
    "    plt.xticks([])\n",
    "    plt.xlabel('Model')\n",
    "    plt.title(title)\n",
    "\n",
    "\n",
    "    plt.legend(loc='lower center')\n",
    "    plt.show()"
   ]
  },
  {
   "cell_type": "code",
   "execution_count": 37,
   "metadata": {},
   "outputs": [
    {
     "data": {
      "image/png": "[encoded data removed]",
      "text/plain": [
       "<Figure size 640x480 with 1 Axes>"
      ]
     },
     "metadata": {},
     "output_type": "display_data"
    },
    {
     "data": {
      "image/png": "[encoded data removed]",
      "text/plain": [
       "<Figure size 640x480 with 1 Axes>"
      ]
     },
     "metadata": {},
     "output_type": "display_data"
    }
   ],
   "source": [
    "plotMeasures([rmse_lin, rmse_DT, rmse_RF,rmse_xgb], 'RMSE', ['Linear Regression', 'Regression Tree', 'Random Forest','XGBoost'])\n",
    "plotMeasures([r2_lin, r2_DT, r2_RF,r2_xgb], 'R^2', ['Linear Regression', 'Regression Tree', 'Random Forest','XGBoost'])"
   ]
  },
  {
   "cell_type": "markdown",
   "metadata": {},
   "source": [
    "## Conclusion\n",
    "We obtained really good results for predicting the market value of the FIFA players. Especially the Random Forest performed extraordinarily well. However we could also observe that the most important feature for the Gradient Boosting was the value 'overall' with an importance of over 0.6. This is a very specific ingame value that was again derived by developers from the player's statistics (such as also market price) just for the game. Considering this fact the very good results might be attributed to the fact that it's data for a video game. Hypothetically using the same approach on real life FIFA data only would maybe not lead to such low error rates. However, the general approach that we developed within this project can be used for similar predictions of continuos values."
   ]
  }
 ],
 "metadata": {
  "kernelspec": {
   "display_name": "fds",
   "language": "python",
   "name": "python3"
  },
  "language_info": {
   "codemirror_mode": {
    "name": "ipython",
    "version": 3
   },
   "file_extension": ".py",
   "mimetype": "text/x-python",
   "name": "python",
   "nbconvert_exporter": "python",
   "pygments_lexer": "ipython3",
   "version": "3.9.18"
  }
 },
 "nbformat": 4,
 "nbformat_minor": 2
}
